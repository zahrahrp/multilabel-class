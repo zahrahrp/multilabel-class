{
  "cells": [
    {
      "cell_type": "markdown",
      "metadata": {
        "id": "view-in-github",
        "colab_type": "text"
      },
      "source": [
        "<a href=\"https://colab.research.google.com/github/zahrahrp/multilabel-class/blob/master/Ensemble_Learning_Class.ipynb\" target=\"_parent\"><img src=\"https://colab.research.google.com/assets/colab-badge.svg\" alt=\"Open In Colab\"/></a>"
      ]
    },
    {
      "cell_type": "markdown",
      "metadata": {
        "id": "5eWvCLyr-UOB"
      },
      "source": [
        "# **Multilabel Classification of Doctor's Specialties on Medical Inquiry Documents**"
      ]
    },
    {
      "cell_type": "markdown",
      "metadata": {
        "id": "4FkNUjOoqa-B"
      },
      "source": [
        "## Import Module"
      ]
    },
    {
      "cell_type": "code",
      "execution_count": null,
      "metadata": {
        "colab": {
          "base_uri": "https://localhost:8080/"
        },
        "id": "U7-lcEtaqNwL",
        "outputId": "27599611-ab6b-4f67-fb42-474917d1b87e"
      },
      "outputs": [
        {
          "name": "stdout",
          "output_type": "stream",
          "text": [
            "Collecting gdown\n",
            "  Downloading gdown-4.5.3.tar.gz (14 kB)\n",
            "  Installing build dependencies ... \u001b[?25ldone\n",
            "\u001b[?25h  Getting requirements to build wheel ... \u001b[?25ldone\n",
            "\u001b[?25h  Preparing metadata (pyproject.toml) ... \u001b[?25ldone\n",
            "\u001b[?25hRequirement already satisfied: six in /Users/zahrahputri/miniforge3/envs/new_env/lib/python3.8/site-packages (from gdown) (1.15.0)\n",
            "Requirement already satisfied: filelock in /Users/zahrahputri/miniforge3/envs/new_env/lib/python3.8/site-packages (from gdown) (3.7.1)\n",
            "Requirement already satisfied: beautifulsoup4 in /Users/zahrahputri/miniforge3/envs/new_env/lib/python3.8/site-packages (from gdown) (4.11.1)\n",
            "Requirement already satisfied: requests[socks] in /Users/zahrahputri/miniforge3/envs/new_env/lib/python3.8/site-packages (from gdown) (2.28.1)\n",
            "Requirement already satisfied: tqdm in /Users/zahrahputri/miniforge3/envs/new_env/lib/python3.8/site-packages (from gdown) (4.64.0)\n",
            "Requirement already satisfied: soupsieve>1.2 in /Users/zahrahputri/miniforge3/envs/new_env/lib/python3.8/site-packages (from beautifulsoup4->gdown) (2.3.1)\n",
            "Requirement already satisfied: certifi>=2017.4.17 in /Users/zahrahputri/miniforge3/envs/new_env/lib/python3.8/site-packages (from requests[socks]->gdown) (2022.6.15)\n",
            "Requirement already satisfied: charset-normalizer<3,>=2 in /Users/zahrahputri/miniforge3/envs/new_env/lib/python3.8/site-packages (from requests[socks]->gdown) (2.1.0)\n",
            "Requirement already satisfied: urllib3<1.27,>=1.21.1 in /Users/zahrahputri/miniforge3/envs/new_env/lib/python3.8/site-packages (from requests[socks]->gdown) (1.26.10)\n",
            "Requirement already satisfied: idna<4,>=2.5 in /Users/zahrahputri/miniforge3/envs/new_env/lib/python3.8/site-packages (from requests[socks]->gdown) (3.3)\n",
            "Requirement already satisfied: PySocks!=1.5.7,>=1.5.6 in /Users/zahrahputri/miniforge3/envs/new_env/lib/python3.8/site-packages (from requests[socks]->gdown) (1.7.1)\n",
            "Building wheels for collected packages: gdown\n",
            "  Building wheel for gdown (pyproject.toml) ... \u001b[?25ldone\n",
            "\u001b[?25h  Created wheel for gdown: filename=gdown-4.5.3-py3-none-any.whl size=14821 sha256=cb90ce79ff96ba7e6d0e5bb6f592f3da184eda2a11bc3afc9c0de22e37135aa3\n",
            "  Stored in directory: /private/var/folders/hj/zwmhvfpx0nd1_rjl0lcpymjc0000gn/T/pip-ephem-wheel-cache-gkj82_td/wheels/2e/bf/38/838f7a301971b6fa2915069198ae7b48a21833d156ef170960\n",
            "Successfully built gdown\n",
            "Installing collected packages: gdown\n",
            "Successfully installed gdown-4.5.3\n",
            "Collecting PySastrawi\n",
            "  Using cached PySastrawi-1.2.0-py2.py3-none-any.whl (210 kB)\n",
            "Installing collected packages: PySastrawi\n",
            "Successfully installed PySastrawi-1.2.0\n",
            "Requirement already satisfied: xmltodict in /Users/zahrahputri/miniforge3/envs/new_env/lib/python3.8/site-packages (0.13.0)\n"
          ]
        }
      ],
      "source": [
        "!pip install --upgrade --no-cache-dir gdown\n",
        "!pip install PySastrawi\n",
        "!pip install xmltodict\n",
        "import pandas as pd\n",
        "import numpy as np\n",
        "import xmltodict,json\n",
        "import re"
      ]
    },
    {
      "cell_type": "markdown",
      "metadata": {
        "id": "zwVZLIepryV2"
      },
      "source": [
        "## Read dataset"
      ]
    },
    {
      "cell_type": "markdown",
      "metadata": {
        "id": "mOHqL2322_3u"
      },
      "source": [
        "### Helper Method"
      ]
    },
    {
      "cell_type": "code",
      "execution_count": null,
      "metadata": {
        "id": "sF6cQkLo0u3n"
      },
      "outputs": [],
      "source": [
        "def open_xml_file(filename):\n",
        "    with open(filename) as xml_file:\n",
        "      data_file = xmltodict.parse(xml_file.read())\n",
        "\n",
        "    xml_file.close()\n",
        "    data_file = data_file.get('KORPUS')\n",
        "    data_file = data_file.get('DOK')\n",
        "    return data_file"
      ]
    },
    {
      "cell_type": "code",
      "execution_count": null,
      "metadata": {
        "id": "t_-7zXHL1IhV"
      },
      "outputs": [],
      "source": [
        "def convert_xml_to_json(data):\n",
        "  json_data = json.dumps(data)\n",
        "  res_data = json.loads(json_data)\n",
        "  return res_data"
      ]
    },
    {
      "cell_type": "code",
      "execution_count": null,
      "metadata": {
        "id": "lRTqcKXk2sZU"
      },
      "outputs": [],
      "source": [
        "def print_json(json_object):\n",
        "    res = json.dumps(json_object, indent=2)\n",
        "    print(res)"
      ]
    },
    {
      "cell_type": "code",
      "execution_count": null,
      "metadata": {
        "id": "QDT7B2UV3MRH"
      },
      "outputs": [],
      "source": [
        "def preprocess(document):\n",
        "    cleaned_doc = []\n",
        "    for sent in document:\n",
        "        tmp = []\n",
        "        for token in sent:\n",
        "            if re.match(\"[a-zA-Z]+\", token):\n",
        "                tmp.append(token)\n",
        "        cleaned_doc.append(\" \".join(tmp))                \n",
        "    return cleaned_doc"
      ]
    },
    {
      "cell_type": "code",
      "execution_count": null,
      "metadata": {
        "id": "8soRkH_R-n3z"
      },
      "outputs": [],
      "source": [
        "def make_dataframe(json_data):\n",
        "  tmp_data = []\n",
        "  for json_obj in json_data:\n",
        "      class1, class2, class3, class4, class5, class6, class7, class8, class9, class10, class11, class12, class13, class14, class15, class16 = 0,0,0,0,0,0,0,0,0,0,0,0,0,0,0,0\n",
        "      if ('CLASS' in json_obj):\n",
        "        label = (json_obj['CLASS'])['LABEL']\n",
        "        if type(label) == str:\n",
        "          label = [label]\n",
        "        if label is not None: \n",
        "          for item in label:\n",
        "            if item == 'Kebidanan dan Kandungan' : \n",
        "              class1 = 1 \n",
        "            elif item == 'Penyakit Dalam':\n",
        "              class2 = 1\n",
        "            elif item == 'Kesehatan Anak':\n",
        "              class3 = 1\n",
        "            elif item =='Kesehatan Kulit dan Kelamin':\n",
        "              class4 = 1\n",
        "            elif item == 'Kesehatan Gizi':\n",
        "              class5 = 1\n",
        "            elif item =='Kesehatan Telinga, Hidung dan Tenggorokan (THT)':\n",
        "              class6 = 1\n",
        "            elif item == 'Gigi':\n",
        "              class7 = 1\n",
        "            elif item =='Kesehatan Mata':\n",
        "              class8 = 1\n",
        "            elif item == 'Bedah':\n",
        "              class9 = 1\n",
        "            elif item == 'Kesehatan Jiwa':\n",
        "              class10 = 1\n",
        "            elif item == 'Ortopedi (Tulang)':\n",
        "              class11 = 1\n",
        "            elif item == 'Jantung dan Pembuluh Darah':\n",
        "              class12 = 1\n",
        "            elif item == 'Urologi':\n",
        "              class13 = 1\n",
        "            elif item =='Saraf':\n",
        "              class14 = 1\n",
        "            elif item =='Pulmonologi (Paru)':\n",
        "              class15 = 1\n",
        "            elif item =='Umum':\n",
        "              class16 = 1\n",
        "      id = json_obj['ID']\n",
        "      judul = (json_obj['PERTANYAAN'])['JUDUL']\n",
        "      isi = (json_obj['PERTANYAAN'])['ISI']\n",
        "      if ('CLASS' in json_obj):\n",
        "        tmp_data.append([id, judul, isi, class1, class2, class3, class4, class5, class6, class7, class8, class9, class10, class11, class12, class13, class14, class15, class16])\n",
        "      else :\n",
        "        tmp_data.append([id, judul, isi])\n",
        "\n",
        "  if ('CLASS' in json_obj):\n",
        "    df_data = pd.DataFrame(tmp_data, columns=['ID', 'JUDUL', 'ISI', 'class1', 'class2', 'class3', 'class4', 'class5', 'class6', 'class7', 'class8', 'class9', 'class10', 'class11', 'class12', 'class13', 'class14', 'class15', 'class16'])\n",
        "  else:\n",
        "    df_data = pd.DataFrame(tmp_data, columns=['ID', 'JUDUL', 'ISI'])\n",
        "  return df_data"
      ]
    },
    {
      "cell_type": "markdown",
      "metadata": {
        "id": "5khWO0Uu3Eag"
      },
      "source": [
        "### Open dataset"
      ]
    },
    {
      "cell_type": "markdown",
      "metadata": {
        "id": "si3GzTvw90JJ"
      },
      "source": [
        "##### Training Dataset"
      ]
    },
    {
      "cell_type": "markdown",
      "metadata": {
        "id": "26z6CqzdTcbc"
      },
      "source": [
        "###### Machine Annotated Labeled Data"
      ]
    },
    {
      "cell_type": "code",
      "execution_count": null,
      "metadata": {
        "id": "DrGqg9hxr0Xj"
      },
      "outputs": [],
      "source": [
        "data_file = open_xml_file('/Users/zahrahputri/Downloads/Dataset/machine_annotated_labeled_data_v1.xml')"
      ]
    },
    {
      "cell_type": "code",
      "execution_count": null,
      "metadata": {
        "id": "3qN-eJokv_Ow"
      },
      "outputs": [],
      "source": [
        "data = convert_xml_to_json(data_file)"
      ]
    },
    {
      "cell_type": "code",
      "execution_count": null,
      "metadata": {
        "colab": {
          "base_uri": "https://localhost:8080/",
          "height": 652
        },
        "id": "bMPZXrdG3Tap",
        "outputId": "b0fcc7ac-c463-42dd-f9ac-c606401ddeea"
      },
      "outputs": [
        {
          "data": {
            "text/html": [
              "<div>\n",
              "<style scoped>\n",
              "    .dataframe tbody tr th:only-of-type {\n",
              "        vertical-align: middle;\n",
              "    }\n",
              "\n",
              "    .dataframe tbody tr th {\n",
              "        vertical-align: top;\n",
              "    }\n",
              "\n",
              "    .dataframe thead th {\n",
              "        text-align: right;\n",
              "    }\n",
              "</style>\n",
              "<table border=\"1\" class=\"dataframe\">\n",
              "  <thead>\n",
              "    <tr style=\"text-align: right;\">\n",
              "      <th></th>\n",
              "      <th>ID</th>\n",
              "      <th>JUDUL</th>\n",
              "      <th>ISI</th>\n",
              "      <th>class1</th>\n",
              "      <th>class2</th>\n",
              "      <th>class3</th>\n",
              "      <th>class4</th>\n",
              "      <th>class5</th>\n",
              "      <th>class6</th>\n",
              "      <th>class7</th>\n",
              "      <th>class8</th>\n",
              "      <th>class9</th>\n",
              "      <th>class10</th>\n",
              "      <th>class11</th>\n",
              "      <th>class12</th>\n",
              "      <th>class13</th>\n",
              "      <th>class14</th>\n",
              "      <th>class15</th>\n",
              "      <th>class16</th>\n",
              "    </tr>\n",
              "  </thead>\n",
              "  <tbody>\n",
              "    <tr>\n",
              "      <th>0</th>\n",
              "      <td>AD-10</td>\n",
              "      <td>gatal-gatal dan bintik merah di kelamin</td>\n",
              "      <td>dok saya cowok ko alat kelamin saya gatal ya ....</td>\n",
              "      <td>0</td>\n",
              "      <td>0</td>\n",
              "      <td>0</td>\n",
              "      <td>1</td>\n",
              "      <td>0</td>\n",
              "      <td>0</td>\n",
              "      <td>0</td>\n",
              "      <td>0</td>\n",
              "      <td>0</td>\n",
              "      <td>0</td>\n",
              "      <td>0</td>\n",
              "      <td>0</td>\n",
              "      <td>1</td>\n",
              "      <td>0</td>\n",
              "      <td>0</td>\n",
              "      <td>1</td>\n",
              "    </tr>\n",
              "    <tr>\n",
              "      <th>1</th>\n",
              "      <td>AD-15</td>\n",
              "      <td>sering buang air kecil</td>\n",
              "      <td>selamat siang dok . sudah beberapa minggu ini ...</td>\n",
              "      <td>0</td>\n",
              "      <td>1</td>\n",
              "      <td>0</td>\n",
              "      <td>0</td>\n",
              "      <td>0</td>\n",
              "      <td>0</td>\n",
              "      <td>0</td>\n",
              "      <td>0</td>\n",
              "      <td>1</td>\n",
              "      <td>0</td>\n",
              "      <td>0</td>\n",
              "      <td>0</td>\n",
              "      <td>1</td>\n",
              "      <td>0</td>\n",
              "      <td>0</td>\n",
              "      <td>0</td>\n",
              "    </tr>\n",
              "    <tr>\n",
              "      <th>2</th>\n",
              "      <td>AD-28</td>\n",
              "      <td>penyebab nyeri dada</td>\n",
              "      <td>assalammu alaikum . salam sejahtera bagi kita ...</td>\n",
              "      <td>0</td>\n",
              "      <td>1</td>\n",
              "      <td>0</td>\n",
              "      <td>0</td>\n",
              "      <td>0</td>\n",
              "      <td>0</td>\n",
              "      <td>0</td>\n",
              "      <td>0</td>\n",
              "      <td>1</td>\n",
              "      <td>0</td>\n",
              "      <td>0</td>\n",
              "      <td>1</td>\n",
              "      <td>0</td>\n",
              "      <td>0</td>\n",
              "      <td>0</td>\n",
              "      <td>1</td>\n",
              "    </tr>\n",
              "    <tr>\n",
              "      <th>3</th>\n",
              "      <td>AD-33</td>\n",
              "      <td>penanganan luka digigit anjing</td>\n",
              "      <td>malam dok , tadi saya digigit anjing tetapi an...</td>\n",
              "      <td>0</td>\n",
              "      <td>1</td>\n",
              "      <td>1</td>\n",
              "      <td>0</td>\n",
              "      <td>0</td>\n",
              "      <td>0</td>\n",
              "      <td>0</td>\n",
              "      <td>0</td>\n",
              "      <td>0</td>\n",
              "      <td>0</td>\n",
              "      <td>0</td>\n",
              "      <td>0</td>\n",
              "      <td>0</td>\n",
              "      <td>1</td>\n",
              "      <td>0</td>\n",
              "      <td>0</td>\n",
              "    </tr>\n",
              "    <tr>\n",
              "      <th>4</th>\n",
              "      <td>AD-36</td>\n",
              "      <td>insomnia karena banyak pikiran</td>\n",
              "      <td>malam dok , sebelum nya knlin dok nma saya riw...</td>\n",
              "      <td>0</td>\n",
              "      <td>0</td>\n",
              "      <td>0</td>\n",
              "      <td>0</td>\n",
              "      <td>0</td>\n",
              "      <td>0</td>\n",
              "      <td>0</td>\n",
              "      <td>0</td>\n",
              "      <td>0</td>\n",
              "      <td>1</td>\n",
              "      <td>0</td>\n",
              "      <td>0</td>\n",
              "      <td>0</td>\n",
              "      <td>0</td>\n",
              "      <td>0</td>\n",
              "      <td>0</td>\n",
              "    </tr>\n",
              "  </tbody>\n",
              "</table>\n",
              "</div>"
            ],
            "text/plain": [
              "      ID                                    JUDUL  \\\n",
              "0  AD-10  gatal-gatal dan bintik merah di kelamin   \n",
              "1  AD-15                   sering buang air kecil   \n",
              "2  AD-28                      penyebab nyeri dada   \n",
              "3  AD-33           penanganan luka digigit anjing   \n",
              "4  AD-36           insomnia karena banyak pikiran   \n",
              "\n",
              "                                                 ISI  class1  class2  class3  \\\n",
              "0  dok saya cowok ko alat kelamin saya gatal ya ....       0       0       0   \n",
              "1  selamat siang dok . sudah beberapa minggu ini ...       0       1       0   \n",
              "2  assalammu alaikum . salam sejahtera bagi kita ...       0       1       0   \n",
              "3  malam dok , tadi saya digigit anjing tetapi an...       0       1       1   \n",
              "4  malam dok , sebelum nya knlin dok nma saya riw...       0       0       0   \n",
              "\n",
              "   class4  class5  class6  class7  class8  class9  class10  class11  class12  \\\n",
              "0       1       0       0       0       0       0        0        0        0   \n",
              "1       0       0       0       0       0       1        0        0        0   \n",
              "2       0       0       0       0       0       1        0        0        1   \n",
              "3       0       0       0       0       0       0        0        0        0   \n",
              "4       0       0       0       0       0       0        1        0        0   \n",
              "\n",
              "   class13  class14  class15  class16  \n",
              "0        1        0        0        1  \n",
              "1        1        0        0        0  \n",
              "2        0        0        0        1  \n",
              "3        0        1        0        0  \n",
              "4        0        0        0        0  "
            ]
          },
          "execution_count": 10,
          "metadata": {},
          "output_type": "execute_result"
        }
      ],
      "source": [
        "df_data = make_dataframe(data)\n",
        "df_data.head()"
      ]
    },
    {
      "cell_type": "code",
      "execution_count": null,
      "metadata": {
        "colab": {
          "base_uri": "https://localhost:8080/"
        },
        "id": "a8YhQXMiP0bM",
        "outputId": "7796a30a-0b14-4fd0-921b-f22037410234"
      },
      "outputs": [
        {
          "name": "stdout",
          "output_type": "stream",
          "text": [
            "ID         0\n",
            "JUDUL      0\n",
            "ISI        4\n",
            "class1     0\n",
            "class2     0\n",
            "class3     0\n",
            "class4     0\n",
            "class5     0\n",
            "class6     0\n",
            "class7     0\n",
            "class8     0\n",
            "class9     0\n",
            "class10    0\n",
            "class11    0\n",
            "class12    0\n",
            "class13    0\n",
            "class14    0\n",
            "class15    0\n",
            "class16    0\n",
            "dtype: int64\n",
            "(11526, 19)\n"
          ]
        }
      ],
      "source": [
        "# Cek missing value\n",
        "print(df_data.isnull().sum())\n",
        "print(df_data.shape)"
      ]
    },
    {
      "cell_type": "code",
      "execution_count": null,
      "metadata": {
        "id": "SV0k23MnSUyG"
      },
      "outputs": [],
      "source": [
        "df_data_clean = df_data.copy()"
      ]
    },
    {
      "cell_type": "code",
      "execution_count": null,
      "metadata": {
        "id": "y6xtS1UhQq6K"
      },
      "outputs": [],
      "source": [
        "df_data_clean.replace(np.nan, '', inplace=True)"
      ]
    },
    {
      "cell_type": "code",
      "execution_count": null,
      "metadata": {
        "colab": {
          "base_uri": "https://localhost:8080/"
        },
        "id": "8zSTl9kmQ6dv",
        "outputId": "53973f44-ad55-41a7-b7a2-7f4d0b422a05"
      },
      "outputs": [
        {
          "name": "stdout",
          "output_type": "stream",
          "text": [
            "ID         0\n",
            "JUDUL      0\n",
            "ISI        0\n",
            "class1     0\n",
            "class2     0\n",
            "class3     0\n",
            "class4     0\n",
            "class5     0\n",
            "class6     0\n",
            "class7     0\n",
            "class8     0\n",
            "class9     0\n",
            "class10    0\n",
            "class11    0\n",
            "class12    0\n",
            "class13    0\n",
            "class14    0\n",
            "class15    0\n",
            "class16    0\n",
            "dtype: int64\n",
            "(11526, 19)\n"
          ]
        }
      ],
      "source": [
        "print(df_data_clean.isnull().sum())\n",
        "print(df_data_clean.shape)"
      ]
    },
    {
      "cell_type": "markdown",
      "metadata": {
        "id": "xY-BRiw2S8TW"
      },
      "source": [
        "###### Human annotated labeled data"
      ]
    },
    {
      "cell_type": "code",
      "execution_count": null,
      "metadata": {
        "id": "mp_s2cxlS8nN"
      },
      "outputs": [],
      "source": [
        "data_file_human = open_xml_file('/Users/zahrahputri/Downloads/Dataset/human_annotated_labeled_data.xml')"
      ]
    },
    {
      "cell_type": "code",
      "execution_count": null,
      "metadata": {
        "id": "aFe3RONTS8nO"
      },
      "outputs": [],
      "source": [
        "data_human = convert_xml_to_json(data_file_human)"
      ]
    },
    {
      "cell_type": "code",
      "execution_count": null,
      "metadata": {
        "colab": {
          "base_uri": "https://localhost:8080/",
          "height": 704
        },
        "id": "Ivqy_XlQS8nO",
        "outputId": "8f39f79f-85e2-424c-8b01-e8b3f415abf7"
      },
      "outputs": [
        {
          "data": {
            "text/html": [
              "<div>\n",
              "<style scoped>\n",
              "    .dataframe tbody tr th:only-of-type {\n",
              "        vertical-align: middle;\n",
              "    }\n",
              "\n",
              "    .dataframe tbody tr th {\n",
              "        vertical-align: top;\n",
              "    }\n",
              "\n",
              "    .dataframe thead th {\n",
              "        text-align: right;\n",
              "    }\n",
              "</style>\n",
              "<table border=\"1\" class=\"dataframe\">\n",
              "  <thead>\n",
              "    <tr style=\"text-align: right;\">\n",
              "      <th></th>\n",
              "      <th>ID</th>\n",
              "      <th>JUDUL</th>\n",
              "      <th>ISI</th>\n",
              "      <th>class1</th>\n",
              "      <th>class2</th>\n",
              "      <th>class3</th>\n",
              "      <th>class4</th>\n",
              "      <th>class5</th>\n",
              "      <th>class6</th>\n",
              "      <th>class7</th>\n",
              "      <th>class8</th>\n",
              "      <th>class9</th>\n",
              "      <th>class10</th>\n",
              "      <th>class11</th>\n",
              "      <th>class12</th>\n",
              "      <th>class13</th>\n",
              "      <th>class14</th>\n",
              "      <th>class15</th>\n",
              "      <th>class16</th>\n",
              "    </tr>\n",
              "  </thead>\n",
              "  <tbody>\n",
              "    <tr>\n",
              "      <th>0</th>\n",
              "      <td>DS-1</td>\n",
              "      <td>mengapa keringat badan sangat berlebihan ?</td>\n",
              "      <td>selamat malam dokter. ! saya fathurrosi umur 1...</td>\n",
              "      <td>0</td>\n",
              "      <td>0</td>\n",
              "      <td>0</td>\n",
              "      <td>1</td>\n",
              "      <td>0</td>\n",
              "      <td>0</td>\n",
              "      <td>0</td>\n",
              "      <td>0</td>\n",
              "      <td>0</td>\n",
              "      <td>0</td>\n",
              "      <td>0</td>\n",
              "      <td>0</td>\n",
              "      <td>0</td>\n",
              "      <td>0</td>\n",
              "      <td>0</td>\n",
              "      <td>1</td>\n",
              "    </tr>\n",
              "    <tr>\n",
              "      <th>1</th>\n",
              "      <td>DS-23</td>\n",
              "      <td>suka menghayal dan berhalusinasi</td>\n",
              "      <td>selamat siang dokter , saya sering kali berkha...</td>\n",
              "      <td>0</td>\n",
              "      <td>0</td>\n",
              "      <td>0</td>\n",
              "      <td>0</td>\n",
              "      <td>0</td>\n",
              "      <td>0</td>\n",
              "      <td>0</td>\n",
              "      <td>0</td>\n",
              "      <td>0</td>\n",
              "      <td>1</td>\n",
              "      <td>0</td>\n",
              "      <td>0</td>\n",
              "      <td>0</td>\n",
              "      <td>0</td>\n",
              "      <td>0</td>\n",
              "      <td>1</td>\n",
              "    </tr>\n",
              "    <tr>\n",
              "      <th>2</th>\n",
              "      <td>DS-87</td>\n",
              "      <td>feses warna kuning di sertai darah apakah ada ...</td>\n",
              "      <td>selamat sore dokter , feses saya warna kuning ...</td>\n",
              "      <td>0</td>\n",
              "      <td>1</td>\n",
              "      <td>0</td>\n",
              "      <td>0</td>\n",
              "      <td>0</td>\n",
              "      <td>0</td>\n",
              "      <td>0</td>\n",
              "      <td>0</td>\n",
              "      <td>1</td>\n",
              "      <td>0</td>\n",
              "      <td>0</td>\n",
              "      <td>0</td>\n",
              "      <td>0</td>\n",
              "      <td>0</td>\n",
              "      <td>0</td>\n",
              "      <td>1</td>\n",
              "    </tr>\n",
              "    <tr>\n",
              "      <th>3</th>\n",
              "      <td>DS-176</td>\n",
              "      <td>apakah setiap nyeri perut kanan bawah itu adal...</td>\n",
              "      <td>selamat sore dokter , saya merasakan nyeri per...</td>\n",
              "      <td>0</td>\n",
              "      <td>0</td>\n",
              "      <td>0</td>\n",
              "      <td>0</td>\n",
              "      <td>0</td>\n",
              "      <td>0</td>\n",
              "      <td>0</td>\n",
              "      <td>0</td>\n",
              "      <td>1</td>\n",
              "      <td>0</td>\n",
              "      <td>0</td>\n",
              "      <td>0</td>\n",
              "      <td>0</td>\n",
              "      <td>0</td>\n",
              "      <td>0</td>\n",
              "      <td>1</td>\n",
              "    </tr>\n",
              "    <tr>\n",
              "      <th>4</th>\n",
              "      <td>DS-277</td>\n",
              "      <td>10 kebiasaan buruk yang dapat merusak otak</td>\n",
              "      <td>saya perokok berat dok , mengenal rokok sejak ...</td>\n",
              "      <td>0</td>\n",
              "      <td>0</td>\n",
              "      <td>0</td>\n",
              "      <td>0</td>\n",
              "      <td>0</td>\n",
              "      <td>0</td>\n",
              "      <td>0</td>\n",
              "      <td>0</td>\n",
              "      <td>0</td>\n",
              "      <td>0</td>\n",
              "      <td>0</td>\n",
              "      <td>0</td>\n",
              "      <td>0</td>\n",
              "      <td>0</td>\n",
              "      <td>1</td>\n",
              "      <td>1</td>\n",
              "    </tr>\n",
              "  </tbody>\n",
              "</table>\n",
              "</div>"
            ],
            "text/plain": [
              "       ID                                              JUDUL  \\\n",
              "0    DS-1         mengapa keringat badan sangat berlebihan ?   \n",
              "1   DS-23                   suka menghayal dan berhalusinasi   \n",
              "2   DS-87  feses warna kuning di sertai darah apakah ada ...   \n",
              "3  DS-176  apakah setiap nyeri perut kanan bawah itu adal...   \n",
              "4  DS-277         10 kebiasaan buruk yang dapat merusak otak   \n",
              "\n",
              "                                                 ISI  class1  class2  class3  \\\n",
              "0  selamat malam dokter. ! saya fathurrosi umur 1...       0       0       0   \n",
              "1  selamat siang dokter , saya sering kali berkha...       0       0       0   \n",
              "2  selamat sore dokter , feses saya warna kuning ...       0       1       0   \n",
              "3  selamat sore dokter , saya merasakan nyeri per...       0       0       0   \n",
              "4  saya perokok berat dok , mengenal rokok sejak ...       0       0       0   \n",
              "\n",
              "   class4  class5  class6  class7  class8  class9  class10  class11  class12  \\\n",
              "0       1       0       0       0       0       0        0        0        0   \n",
              "1       0       0       0       0       0       0        1        0        0   \n",
              "2       0       0       0       0       0       1        0        0        0   \n",
              "3       0       0       0       0       0       1        0        0        0   \n",
              "4       0       0       0       0       0       0        0        0        0   \n",
              "\n",
              "   class13  class14  class15  class16  \n",
              "0        0        0        0        1  \n",
              "1        0        0        0        1  \n",
              "2        0        0        0        1  \n",
              "3        0        0        0        1  \n",
              "4        0        0        1        1  "
            ]
          },
          "execution_count": 17,
          "metadata": {},
          "output_type": "execute_result"
        }
      ],
      "source": [
        "df_data_human = make_dataframe(data_human)\n",
        "df_data_human.head()"
      ]
    },
    {
      "cell_type": "code",
      "execution_count": null,
      "metadata": {
        "colab": {
          "base_uri": "https://localhost:8080/"
        },
        "id": "KriEV3ChS8nP",
        "outputId": "1112ba68-aaff-4e3a-e3df-dfe8d3aa3add"
      },
      "outputs": [
        {
          "name": "stdout",
          "output_type": "stream",
          "text": [
            "ID          0\n",
            "JUDUL       0\n",
            "ISI        28\n",
            "class1      0\n",
            "class2      0\n",
            "class3      0\n",
            "class4      0\n",
            "class5      0\n",
            "class6      0\n",
            "class7      0\n",
            "class8      0\n",
            "class9      0\n",
            "class10     0\n",
            "class11     0\n",
            "class12     0\n",
            "class13     0\n",
            "class14     0\n",
            "class15     0\n",
            "class16     0\n",
            "dtype: int64\n",
            "(1775, 19)\n"
          ]
        }
      ],
      "source": [
        "print(df_data_human.isnull().sum())\n",
        "print(df_data_human.shape)"
      ]
    },
    {
      "cell_type": "code",
      "execution_count": null,
      "metadata": {
        "id": "FPj__ea1S8nP"
      },
      "outputs": [],
      "source": [
        "df_data_clean_human = df_data_human.copy()"
      ]
    },
    {
      "cell_type": "code",
      "execution_count": null,
      "metadata": {
        "id": "Jg3gEgooS8nP"
      },
      "outputs": [],
      "source": [
        "df_data_clean_human.replace(np.nan, '', inplace=True)"
      ]
    },
    {
      "cell_type": "code",
      "execution_count": null,
      "metadata": {
        "colab": {
          "base_uri": "https://localhost:8080/"
        },
        "id": "mwgcOAQqS8nP",
        "outputId": "10540113-0fdb-4b2a-c360-3893255cf8a8"
      },
      "outputs": [
        {
          "name": "stdout",
          "output_type": "stream",
          "text": [
            "ID         0\n",
            "JUDUL      0\n",
            "ISI        0\n",
            "class1     0\n",
            "class2     0\n",
            "class3     0\n",
            "class4     0\n",
            "class5     0\n",
            "class6     0\n",
            "class7     0\n",
            "class8     0\n",
            "class9     0\n",
            "class10    0\n",
            "class11    0\n",
            "class12    0\n",
            "class13    0\n",
            "class14    0\n",
            "class15    0\n",
            "class16    0\n",
            "dtype: int64\n",
            "(1775, 19)\n"
          ]
        }
      ],
      "source": [
        "print(df_data_clean_human.isnull().sum())\n",
        "print(df_data_clean_human.shape)"
      ]
    },
    {
      "cell_type": "markdown",
      "metadata": {
        "id": "bdhMeBfXUo6n"
      },
      "source": [
        "###### Concate two dataframe"
      ]
    },
    {
      "cell_type": "code",
      "execution_count": null,
      "metadata": {
        "id": "iLiQS9asUqp-"
      },
      "outputs": [],
      "source": [
        "df_vertical_stack = pd.concat([df_data_clean, df_data_clean_human], axis=0)"
      ]
    },
    {
      "cell_type": "markdown",
      "metadata": {
        "id": "ZBQRhaNo9-t9"
      },
      "source": [
        "##### Testing Dataset"
      ]
    },
    {
      "cell_type": "code",
      "execution_count": null,
      "metadata": {
        "id": "PDNKMa-y9_XZ"
      },
      "outputs": [],
      "source": [
        "testing_data_file = open_xml_file('/Users/zahrahputri/Downloads/Dataset/testing_data_v1.xml')"
      ]
    },
    {
      "cell_type": "code",
      "execution_count": null,
      "metadata": {
        "id": "d1jlWljw9_Xa"
      },
      "outputs": [],
      "source": [
        "testing_data = convert_xml_to_json(testing_data_file)"
      ]
    },
    {
      "cell_type": "code",
      "execution_count": null,
      "metadata": {
        "colab": {
          "base_uri": "https://localhost:8080/",
          "height": 206
        },
        "id": "0UH0Isy59_Xa",
        "outputId": "17a5b202-18f0-4174-f652-4d980ab09344"
      },
      "outputs": [
        {
          "data": {
            "text/html": [
              "<div>\n",
              "<style scoped>\n",
              "    .dataframe tbody tr th:only-of-type {\n",
              "        vertical-align: middle;\n",
              "    }\n",
              "\n",
              "    .dataframe tbody tr th {\n",
              "        vertical-align: top;\n",
              "    }\n",
              "\n",
              "    .dataframe thead th {\n",
              "        text-align: right;\n",
              "    }\n",
              "</style>\n",
              "<table border=\"1\" class=\"dataframe\">\n",
              "  <thead>\n",
              "    <tr style=\"text-align: right;\">\n",
              "      <th></th>\n",
              "      <th>ID</th>\n",
              "      <th>JUDUL</th>\n",
              "      <th>ISI</th>\n",
              "    </tr>\n",
              "  </thead>\n",
              "  <tbody>\n",
              "    <tr>\n",
              "      <th>0</th>\n",
              "      <td>DS-45</td>\n",
              "      <td>kenapa telinga berdengung tidak bisa hilang ?</td>\n",
              "      <td>selamat sore dokter , sudah 7 hari telinga say...</td>\n",
              "    </tr>\n",
              "    <tr>\n",
              "      <th>1</th>\n",
              "      <td>DS-339</td>\n",
              "      <td>apabila anak anda lambat berbicara</td>\n",
              "      <td>salam kenal team doktersehat , anak saya berum...</td>\n",
              "    </tr>\n",
              "    <tr>\n",
              "      <th>2</th>\n",
              "      <td>AD-18</td>\n",
              "      <td>sakit perut setiap habis makan dan minum</td>\n",
              "      <td>selamat malam dok , kurang lebih 2 minggu ini ...</td>\n",
              "    </tr>\n",
              "    <tr>\n",
              "      <th>3</th>\n",
              "      <td>AD-66</td>\n",
              "      <td>cara mengobati vertigo berkepanjangan</td>\n",
              "      <td>selamat malam dok saya ingin brtnya seputar ve...</td>\n",
              "    </tr>\n",
              "    <tr>\n",
              "      <th>4</th>\n",
              "      <td>AD-73</td>\n",
              "      <td>imunisasi dapat dan polio</td>\n",
              "      <td>malam dok , anak saya umur 5 tahun permpuan . ...</td>\n",
              "    </tr>\n",
              "  </tbody>\n",
              "</table>\n",
              "</div>"
            ],
            "text/plain": [
              "       ID                                          JUDUL  \\\n",
              "0   DS-45  kenapa telinga berdengung tidak bisa hilang ?   \n",
              "1  DS-339             apabila anak anda lambat berbicara   \n",
              "2   AD-18       sakit perut setiap habis makan dan minum   \n",
              "3   AD-66          cara mengobati vertigo berkepanjangan   \n",
              "4   AD-73                      imunisasi dapat dan polio   \n",
              "\n",
              "                                                 ISI  \n",
              "0  selamat sore dokter , sudah 7 hari telinga say...  \n",
              "1  salam kenal team doktersehat , anak saya berum...  \n",
              "2  selamat malam dok , kurang lebih 2 minggu ini ...  \n",
              "3  selamat malam dok saya ingin brtnya seputar ve...  \n",
              "4  malam dok , anak saya umur 5 tahun permpuan . ...  "
            ]
          },
          "execution_count": 26,
          "metadata": {},
          "output_type": "execute_result"
        }
      ],
      "source": [
        "df_testing_data = make_dataframe(testing_data)\n",
        "df_testing_data.head()"
      ]
    },
    {
      "cell_type": "code",
      "execution_count": null,
      "metadata": {
        "colab": {
          "base_uri": "https://localhost:8080/",
          "height": 731
        },
        "id": "STgKacmDzp2N",
        "outputId": "72aa2e2a-0fb8-4e99-8c4c-d16d4ed669c9"
      },
      "outputs": [
        {
          "data": {
            "text/html": [
              "<div>\n",
              "<style scoped>\n",
              "    .dataframe tbody tr th:only-of-type {\n",
              "        vertical-align: middle;\n",
              "    }\n",
              "\n",
              "    .dataframe tbody tr th {\n",
              "        vertical-align: top;\n",
              "    }\n",
              "\n",
              "    .dataframe thead th {\n",
              "        text-align: right;\n",
              "    }\n",
              "</style>\n",
              "<table border=\"1\" class=\"dataframe\">\n",
              "  <thead>\n",
              "    <tr style=\"text-align: right;\">\n",
              "      <th></th>\n",
              "      <th>Unnamed: 0</th>\n",
              "      <th>ID</th>\n",
              "      <th>Kebidanan dan Kandungan</th>\n",
              "      <th>Penyakit Dalam</th>\n",
              "      <th>Kesehatan Anak</th>\n",
              "      <th>Kesehatan Kulit dan Kelamin</th>\n",
              "      <th>Kesehatan Gizi</th>\n",
              "      <th>Kesehatan Telinga, Hidung dan Tenggorokan (THT)</th>\n",
              "      <th>Gigi</th>\n",
              "      <th>Kesehatan Mata</th>\n",
              "      <th>Bedah</th>\n",
              "      <th>Kesehatan Jiwa</th>\n",
              "      <th>Ortopedi (Tulang)</th>\n",
              "      <th>Jantung dan Pembuluh Darah</th>\n",
              "      <th>Urologi</th>\n",
              "      <th>Saraf</th>\n",
              "      <th>Pulmonologi (Paru)</th>\n",
              "      <th>Umum</th>\n",
              "    </tr>\n",
              "  </thead>\n",
              "  <tbody>\n",
              "    <tr>\n",
              "      <th>0</th>\n",
              "      <td>0</td>\n",
              "      <td>KD-10780</td>\n",
              "      <td>0</td>\n",
              "      <td>0</td>\n",
              "      <td>0</td>\n",
              "      <td>0</td>\n",
              "      <td>0</td>\n",
              "      <td>1</td>\n",
              "      <td>0</td>\n",
              "      <td>0</td>\n",
              "      <td>0</td>\n",
              "      <td>0</td>\n",
              "      <td>0</td>\n",
              "      <td>0</td>\n",
              "      <td>0</td>\n",
              "      <td>0</td>\n",
              "      <td>0</td>\n",
              "      <td>1</td>\n",
              "    </tr>\n",
              "    <tr>\n",
              "      <th>1</th>\n",
              "      <td>1</td>\n",
              "      <td>KD-34954</td>\n",
              "      <td>0</td>\n",
              "      <td>0</td>\n",
              "      <td>0</td>\n",
              "      <td>0</td>\n",
              "      <td>0</td>\n",
              "      <td>0</td>\n",
              "      <td>0</td>\n",
              "      <td>0</td>\n",
              "      <td>0</td>\n",
              "      <td>0</td>\n",
              "      <td>0</td>\n",
              "      <td>0</td>\n",
              "      <td>0</td>\n",
              "      <td>0</td>\n",
              "      <td>0</td>\n",
              "      <td>1</td>\n",
              "    </tr>\n",
              "    <tr>\n",
              "      <th>2</th>\n",
              "      <td>2</td>\n",
              "      <td>KD-42528</td>\n",
              "      <td>0</td>\n",
              "      <td>0</td>\n",
              "      <td>0</td>\n",
              "      <td>0</td>\n",
              "      <td>0</td>\n",
              "      <td>1</td>\n",
              "      <td>0</td>\n",
              "      <td>0</td>\n",
              "      <td>0</td>\n",
              "      <td>0</td>\n",
              "      <td>0</td>\n",
              "      <td>0</td>\n",
              "      <td>0</td>\n",
              "      <td>0</td>\n",
              "      <td>0</td>\n",
              "      <td>1</td>\n",
              "    </tr>\n",
              "    <tr>\n",
              "      <th>3</th>\n",
              "      <td>3</td>\n",
              "      <td>KD-25703</td>\n",
              "      <td>0</td>\n",
              "      <td>0</td>\n",
              "      <td>0</td>\n",
              "      <td>1</td>\n",
              "      <td>0</td>\n",
              "      <td>0</td>\n",
              "      <td>0</td>\n",
              "      <td>0</td>\n",
              "      <td>0</td>\n",
              "      <td>0</td>\n",
              "      <td>0</td>\n",
              "      <td>0</td>\n",
              "      <td>0</td>\n",
              "      <td>0</td>\n",
              "      <td>0</td>\n",
              "      <td>0</td>\n",
              "    </tr>\n",
              "    <tr>\n",
              "      <th>4</th>\n",
              "      <td>4</td>\n",
              "      <td>KD-11423</td>\n",
              "      <td>0</td>\n",
              "      <td>0</td>\n",
              "      <td>0</td>\n",
              "      <td>0</td>\n",
              "      <td>0</td>\n",
              "      <td>1</td>\n",
              "      <td>0</td>\n",
              "      <td>0</td>\n",
              "      <td>0</td>\n",
              "      <td>0</td>\n",
              "      <td>0</td>\n",
              "      <td>0</td>\n",
              "      <td>0</td>\n",
              "      <td>0</td>\n",
              "      <td>0</td>\n",
              "      <td>0</td>\n",
              "    </tr>\n",
              "    <tr>\n",
              "      <th>...</th>\n",
              "      <td>...</td>\n",
              "      <td>...</td>\n",
              "      <td>...</td>\n",
              "      <td>...</td>\n",
              "      <td>...</td>\n",
              "      <td>...</td>\n",
              "      <td>...</td>\n",
              "      <td>...</td>\n",
              "      <td>...</td>\n",
              "      <td>...</td>\n",
              "      <td>...</td>\n",
              "      <td>...</td>\n",
              "      <td>...</td>\n",
              "      <td>...</td>\n",
              "      <td>...</td>\n",
              "      <td>...</td>\n",
              "      <td>...</td>\n",
              "      <td>...</td>\n",
              "    </tr>\n",
              "    <tr>\n",
              "      <th>2922</th>\n",
              "      <td>2922</td>\n",
              "      <td>KD-43404</td>\n",
              "      <td>1</td>\n",
              "      <td>0</td>\n",
              "      <td>0</td>\n",
              "      <td>0</td>\n",
              "      <td>0</td>\n",
              "      <td>0</td>\n",
              "      <td>0</td>\n",
              "      <td>0</td>\n",
              "      <td>0</td>\n",
              "      <td>0</td>\n",
              "      <td>0</td>\n",
              "      <td>0</td>\n",
              "      <td>0</td>\n",
              "      <td>0</td>\n",
              "      <td>0</td>\n",
              "      <td>0</td>\n",
              "    </tr>\n",
              "    <tr>\n",
              "      <th>2923</th>\n",
              "      <td>2923</td>\n",
              "      <td>KD-43406</td>\n",
              "      <td>0</td>\n",
              "      <td>0</td>\n",
              "      <td>0</td>\n",
              "      <td>0</td>\n",
              "      <td>0</td>\n",
              "      <td>0</td>\n",
              "      <td>0</td>\n",
              "      <td>0</td>\n",
              "      <td>0</td>\n",
              "      <td>0</td>\n",
              "      <td>1</td>\n",
              "      <td>0</td>\n",
              "      <td>0</td>\n",
              "      <td>0</td>\n",
              "      <td>0</td>\n",
              "      <td>0</td>\n",
              "    </tr>\n",
              "    <tr>\n",
              "      <th>2924</th>\n",
              "      <td>2924</td>\n",
              "      <td>KD-43411</td>\n",
              "      <td>0</td>\n",
              "      <td>0</td>\n",
              "      <td>1</td>\n",
              "      <td>0</td>\n",
              "      <td>0</td>\n",
              "      <td>0</td>\n",
              "      <td>0</td>\n",
              "      <td>0</td>\n",
              "      <td>0</td>\n",
              "      <td>0</td>\n",
              "      <td>0</td>\n",
              "      <td>0</td>\n",
              "      <td>0</td>\n",
              "      <td>0</td>\n",
              "      <td>0</td>\n",
              "      <td>0</td>\n",
              "    </tr>\n",
              "    <tr>\n",
              "      <th>2925</th>\n",
              "      <td>2925</td>\n",
              "      <td>KD-43446</td>\n",
              "      <td>1</td>\n",
              "      <td>0</td>\n",
              "      <td>0</td>\n",
              "      <td>0</td>\n",
              "      <td>0</td>\n",
              "      <td>0</td>\n",
              "      <td>0</td>\n",
              "      <td>0</td>\n",
              "      <td>0</td>\n",
              "      <td>0</td>\n",
              "      <td>0</td>\n",
              "      <td>0</td>\n",
              "      <td>0</td>\n",
              "      <td>0</td>\n",
              "      <td>0</td>\n",
              "      <td>0</td>\n",
              "    </tr>\n",
              "    <tr>\n",
              "      <th>2926</th>\n",
              "      <td>2926</td>\n",
              "      <td>KD-43457</td>\n",
              "      <td>0</td>\n",
              "      <td>0</td>\n",
              "      <td>0</td>\n",
              "      <td>0</td>\n",
              "      <td>0</td>\n",
              "      <td>0</td>\n",
              "      <td>0</td>\n",
              "      <td>0</td>\n",
              "      <td>0</td>\n",
              "      <td>1</td>\n",
              "      <td>0</td>\n",
              "      <td>0</td>\n",
              "      <td>0</td>\n",
              "      <td>0</td>\n",
              "      <td>0</td>\n",
              "      <td>0</td>\n",
              "    </tr>\n",
              "  </tbody>\n",
              "</table>\n",
              "<p>2927 rows × 18 columns</p>\n",
              "</div>"
            ],
            "text/plain": [
              "      Unnamed: 0        ID  Kebidanan dan Kandungan  Penyakit Dalam  \\\n",
              "0              0  KD-10780                        0               0   \n",
              "1              1  KD-34954                        0               0   \n",
              "2              2  KD-42528                        0               0   \n",
              "3              3  KD-25703                        0               0   \n",
              "4              4  KD-11423                        0               0   \n",
              "...          ...       ...                      ...             ...   \n",
              "2922        2922  KD-43404                        1               0   \n",
              "2923        2923  KD-43406                        0               0   \n",
              "2924        2924  KD-43411                        0               0   \n",
              "2925        2925  KD-43446                        1               0   \n",
              "2926        2926  KD-43457                        0               0   \n",
              "\n",
              "      Kesehatan Anak  Kesehatan Kulit dan Kelamin  Kesehatan Gizi  \\\n",
              "0                  0                            0               0   \n",
              "1                  0                            0               0   \n",
              "2                  0                            0               0   \n",
              "3                  0                            1               0   \n",
              "4                  0                            0               0   \n",
              "...              ...                          ...             ...   \n",
              "2922               0                            0               0   \n",
              "2923               0                            0               0   \n",
              "2924               1                            0               0   \n",
              "2925               0                            0               0   \n",
              "2926               0                            0               0   \n",
              "\n",
              "      Kesehatan Telinga, Hidung dan Tenggorokan (THT)  Gigi  Kesehatan Mata  \\\n",
              "0                                                   1     0               0   \n",
              "1                                                   0     0               0   \n",
              "2                                                   1     0               0   \n",
              "3                                                   0     0               0   \n",
              "4                                                   1     0               0   \n",
              "...                                               ...   ...             ...   \n",
              "2922                                                0     0               0   \n",
              "2923                                                0     0               0   \n",
              "2924                                                0     0               0   \n",
              "2925                                                0     0               0   \n",
              "2926                                                0     0               0   \n",
              "\n",
              "      Bedah  Kesehatan Jiwa  Ortopedi (Tulang)  Jantung dan Pembuluh Darah  \\\n",
              "0         0               0                  0                           0   \n",
              "1         0               0                  0                           0   \n",
              "2         0               0                  0                           0   \n",
              "3         0               0                  0                           0   \n",
              "4         0               0                  0                           0   \n",
              "...     ...             ...                ...                         ...   \n",
              "2922      0               0                  0                           0   \n",
              "2923      0               0                  1                           0   \n",
              "2924      0               0                  0                           0   \n",
              "2925      0               0                  0                           0   \n",
              "2926      0               1                  0                           0   \n",
              "\n",
              "      Urologi  Saraf  Pulmonologi (Paru)  Umum  \n",
              "0           0      0                   0     1  \n",
              "1           0      0                   0     1  \n",
              "2           0      0                   0     1  \n",
              "3           0      0                   0     0  \n",
              "4           0      0                   0     0  \n",
              "...       ...    ...                 ...   ...  \n",
              "2922        0      0                   0     0  \n",
              "2923        0      0                   0     0  \n",
              "2924        0      0                   0     0  \n",
              "2925        0      0                   0     0  \n",
              "2926        0      0                   0     0  \n",
              "\n",
              "[2927 rows x 18 columns]"
            ]
          },
          "execution_count": 27,
          "metadata": {},
          "output_type": "execute_result"
        }
      ],
      "source": [
        "gold_standard_df = pd.read_csv(\"/Users/zahrahputri/Downloads/gold_standard.csv\") \n",
        "# gold_standard_df = gold_standard_df.columns[1:]\n",
        "gold_standard_df"
      ]
    },
    {
      "cell_type": "code",
      "execution_count": null,
      "metadata": {
        "id": "s1M153NI0p4V"
      },
      "outputs": [],
      "source": [
        "df_testing_data = pd.merge(df_testing_data, gold_standard_df, on=\"ID\")"
      ]
    },
    {
      "cell_type": "code",
      "execution_count": null,
      "metadata": {
        "colab": {
          "base_uri": "https://localhost:8080/",
          "height": 739
        },
        "id": "YF3rU2-50xaY",
        "outputId": "a0d0acde-ded5-4b7b-cd1e-0c7a4fe01cfb"
      },
      "outputs": [
        {
          "data": {
            "text/html": [
              "<div>\n",
              "<style scoped>\n",
              "    .dataframe tbody tr th:only-of-type {\n",
              "        vertical-align: middle;\n",
              "    }\n",
              "\n",
              "    .dataframe tbody tr th {\n",
              "        vertical-align: top;\n",
              "    }\n",
              "\n",
              "    .dataframe thead th {\n",
              "        text-align: right;\n",
              "    }\n",
              "</style>\n",
              "<table border=\"1\" class=\"dataframe\">\n",
              "  <thead>\n",
              "    <tr style=\"text-align: right;\">\n",
              "      <th></th>\n",
              "      <th>ID</th>\n",
              "      <th>JUDUL</th>\n",
              "      <th>ISI</th>\n",
              "      <th>Unnamed: 0</th>\n",
              "      <th>Kebidanan dan Kandungan</th>\n",
              "      <th>Penyakit Dalam</th>\n",
              "      <th>Kesehatan Anak</th>\n",
              "      <th>Kesehatan Kulit dan Kelamin</th>\n",
              "      <th>Kesehatan Gizi</th>\n",
              "      <th>Kesehatan Telinga, Hidung dan Tenggorokan (THT)</th>\n",
              "      <th>Gigi</th>\n",
              "      <th>Kesehatan Mata</th>\n",
              "      <th>Bedah</th>\n",
              "      <th>Kesehatan Jiwa</th>\n",
              "      <th>Ortopedi (Tulang)</th>\n",
              "      <th>Jantung dan Pembuluh Darah</th>\n",
              "      <th>Urologi</th>\n",
              "      <th>Saraf</th>\n",
              "      <th>Pulmonologi (Paru)</th>\n",
              "      <th>Umum</th>\n",
              "    </tr>\n",
              "  </thead>\n",
              "  <tbody>\n",
              "    <tr>\n",
              "      <th>0</th>\n",
              "      <td>DS-45</td>\n",
              "      <td>kenapa telinga berdengung tidak bisa hilang ?</td>\n",
              "      <td>selamat sore dokter , sudah 7 hari telinga say...</td>\n",
              "      <td>120</td>\n",
              "      <td>0</td>\n",
              "      <td>0</td>\n",
              "      <td>0</td>\n",
              "      <td>0</td>\n",
              "      <td>0</td>\n",
              "      <td>1</td>\n",
              "      <td>0</td>\n",
              "      <td>0</td>\n",
              "      <td>0</td>\n",
              "      <td>0</td>\n",
              "      <td>0</td>\n",
              "      <td>0</td>\n",
              "      <td>0</td>\n",
              "      <td>0</td>\n",
              "      <td>0</td>\n",
              "      <td>0</td>\n",
              "    </tr>\n",
              "    <tr>\n",
              "      <th>1</th>\n",
              "      <td>DS-339</td>\n",
              "      <td>apabila anak anda lambat berbicara</td>\n",
              "      <td>salam kenal team doktersehat , anak saya berum...</td>\n",
              "      <td>40</td>\n",
              "      <td>0</td>\n",
              "      <td>0</td>\n",
              "      <td>1</td>\n",
              "      <td>0</td>\n",
              "      <td>0</td>\n",
              "      <td>0</td>\n",
              "      <td>0</td>\n",
              "      <td>0</td>\n",
              "      <td>0</td>\n",
              "      <td>0</td>\n",
              "      <td>0</td>\n",
              "      <td>0</td>\n",
              "      <td>0</td>\n",
              "      <td>0</td>\n",
              "      <td>0</td>\n",
              "      <td>0</td>\n",
              "    </tr>\n",
              "    <tr>\n",
              "      <th>2</th>\n",
              "      <td>AD-18</td>\n",
              "      <td>sakit perut setiap habis makan dan minum</td>\n",
              "      <td>selamat malam dok , kurang lebih 2 minggu ini ...</td>\n",
              "      <td>500</td>\n",
              "      <td>0</td>\n",
              "      <td>1</td>\n",
              "      <td>0</td>\n",
              "      <td>0</td>\n",
              "      <td>0</td>\n",
              "      <td>0</td>\n",
              "      <td>0</td>\n",
              "      <td>0</td>\n",
              "      <td>1</td>\n",
              "      <td>0</td>\n",
              "      <td>0</td>\n",
              "      <td>0</td>\n",
              "      <td>0</td>\n",
              "      <td>0</td>\n",
              "      <td>0</td>\n",
              "      <td>1</td>\n",
              "    </tr>\n",
              "    <tr>\n",
              "      <th>3</th>\n",
              "      <td>AD-66</td>\n",
              "      <td>cara mengobati vertigo berkepanjangan</td>\n",
              "      <td>selamat malam dok saya ingin brtnya seputar ve...</td>\n",
              "      <td>501</td>\n",
              "      <td>0</td>\n",
              "      <td>0</td>\n",
              "      <td>0</td>\n",
              "      <td>0</td>\n",
              "      <td>0</td>\n",
              "      <td>0</td>\n",
              "      <td>0</td>\n",
              "      <td>0</td>\n",
              "      <td>0</td>\n",
              "      <td>0</td>\n",
              "      <td>0</td>\n",
              "      <td>0</td>\n",
              "      <td>0</td>\n",
              "      <td>1</td>\n",
              "      <td>0</td>\n",
              "      <td>1</td>\n",
              "    </tr>\n",
              "    <tr>\n",
              "      <th>4</th>\n",
              "      <td>AD-73</td>\n",
              "      <td>imunisasi dapat dan polio</td>\n",
              "      <td>malam dok , anak saya umur 5 tahun permpuan . ...</td>\n",
              "      <td>502</td>\n",
              "      <td>0</td>\n",
              "      <td>0</td>\n",
              "      <td>1</td>\n",
              "      <td>0</td>\n",
              "      <td>0</td>\n",
              "      <td>0</td>\n",
              "      <td>0</td>\n",
              "      <td>0</td>\n",
              "      <td>0</td>\n",
              "      <td>0</td>\n",
              "      <td>0</td>\n",
              "      <td>0</td>\n",
              "      <td>0</td>\n",
              "      <td>0</td>\n",
              "      <td>0</td>\n",
              "      <td>0</td>\n",
              "    </tr>\n",
              "  </tbody>\n",
              "</table>\n",
              "</div>"
            ],
            "text/plain": [
              "       ID                                          JUDUL  \\\n",
              "0   DS-45  kenapa telinga berdengung tidak bisa hilang ?   \n",
              "1  DS-339             apabila anak anda lambat berbicara   \n",
              "2   AD-18       sakit perut setiap habis makan dan minum   \n",
              "3   AD-66          cara mengobati vertigo berkepanjangan   \n",
              "4   AD-73                      imunisasi dapat dan polio   \n",
              "\n",
              "                                                 ISI  Unnamed: 0  \\\n",
              "0  selamat sore dokter , sudah 7 hari telinga say...         120   \n",
              "1  salam kenal team doktersehat , anak saya berum...          40   \n",
              "2  selamat malam dok , kurang lebih 2 minggu ini ...         500   \n",
              "3  selamat malam dok saya ingin brtnya seputar ve...         501   \n",
              "4  malam dok , anak saya umur 5 tahun permpuan . ...         502   \n",
              "\n",
              "   Kebidanan dan Kandungan  Penyakit Dalam  Kesehatan Anak  \\\n",
              "0                        0               0               0   \n",
              "1                        0               0               1   \n",
              "2                        0               1               0   \n",
              "3                        0               0               0   \n",
              "4                        0               0               1   \n",
              "\n",
              "   Kesehatan Kulit dan Kelamin  Kesehatan Gizi  \\\n",
              "0                            0               0   \n",
              "1                            0               0   \n",
              "2                            0               0   \n",
              "3                            0               0   \n",
              "4                            0               0   \n",
              "\n",
              "   Kesehatan Telinga, Hidung dan Tenggorokan (THT)  Gigi  Kesehatan Mata  \\\n",
              "0                                                1     0               0   \n",
              "1                                                0     0               0   \n",
              "2                                                0     0               0   \n",
              "3                                                0     0               0   \n",
              "4                                                0     0               0   \n",
              "\n",
              "   Bedah  Kesehatan Jiwa  Ortopedi (Tulang)  Jantung dan Pembuluh Darah  \\\n",
              "0      0               0                  0                           0   \n",
              "1      0               0                  0                           0   \n",
              "2      1               0                  0                           0   \n",
              "3      0               0                  0                           0   \n",
              "4      0               0                  0                           0   \n",
              "\n",
              "   Urologi  Saraf  Pulmonologi (Paru)  Umum  \n",
              "0        0      0                   0     0  \n",
              "1        0      0                   0     0  \n",
              "2        0      0                   0     1  \n",
              "3        0      1                   0     1  \n",
              "4        0      0                   0     0  "
            ]
          },
          "execution_count": 29,
          "metadata": {},
          "output_type": "execute_result"
        }
      ],
      "source": [
        "df_testing_data.head()"
      ]
    },
    {
      "cell_type": "code",
      "execution_count": null,
      "metadata": {
        "colab": {
          "base_uri": "https://localhost:8080/"
        },
        "id": "L7uGNyik9_Xa",
        "outputId": "ff6c568d-9d5d-428c-f440-5433355028fe"
      },
      "outputs": [
        {
          "name": "stdout",
          "output_type": "stream",
          "text": [
            "ID                                                 0\n",
            "JUDUL                                              0\n",
            "ISI                                                6\n",
            "Unnamed: 0                                         0\n",
            "Kebidanan dan Kandungan                            0\n",
            "Penyakit Dalam                                     0\n",
            "Kesehatan Anak                                     0\n",
            "Kesehatan Kulit dan Kelamin                        0\n",
            "Kesehatan Gizi                                     0\n",
            "Kesehatan Telinga, Hidung dan Tenggorokan (THT)    0\n",
            "Gigi                                               0\n",
            "Kesehatan Mata                                     0\n",
            "Bedah                                              0\n",
            "Kesehatan Jiwa                                     0\n",
            "Ortopedi (Tulang)                                  0\n",
            "Jantung dan Pembuluh Darah                         0\n",
            "Urologi                                            0\n",
            "Saraf                                              0\n",
            "Pulmonologi (Paru)                                 0\n",
            "Umum                                               0\n",
            "dtype: int64\n",
            "(2927, 20)\n"
          ]
        }
      ],
      "source": [
        "print(df_testing_data.isnull().sum())\n",
        "print(df_testing_data.shape)"
      ]
    },
    {
      "cell_type": "code",
      "execution_count": null,
      "metadata": {
        "id": "B6p9J3L69_Xb"
      },
      "outputs": [],
      "source": [
        "df_testing_data_clean = df_testing_data.copy()"
      ]
    },
    {
      "cell_type": "code",
      "execution_count": null,
      "metadata": {
        "id": "YZWn9v_v9_Xb"
      },
      "outputs": [],
      "source": [
        "df_testing_data_clean.replace(np.nan, '', inplace=True)"
      ]
    },
    {
      "cell_type": "code",
      "execution_count": null,
      "metadata": {
        "colab": {
          "base_uri": "https://localhost:8080/"
        },
        "id": "eD7bFIsF9_Xb",
        "outputId": "72c9ea16-0f9b-4710-cc74-0acf8761dc9c"
      },
      "outputs": [
        {
          "name": "stdout",
          "output_type": "stream",
          "text": [
            "ID                                                 0\n",
            "JUDUL                                              0\n",
            "ISI                                                0\n",
            "Unnamed: 0                                         0\n",
            "Kebidanan dan Kandungan                            0\n",
            "Penyakit Dalam                                     0\n",
            "Kesehatan Anak                                     0\n",
            "Kesehatan Kulit dan Kelamin                        0\n",
            "Kesehatan Gizi                                     0\n",
            "Kesehatan Telinga, Hidung dan Tenggorokan (THT)    0\n",
            "Gigi                                               0\n",
            "Kesehatan Mata                                     0\n",
            "Bedah                                              0\n",
            "Kesehatan Jiwa                                     0\n",
            "Ortopedi (Tulang)                                  0\n",
            "Jantung dan Pembuluh Darah                         0\n",
            "Urologi                                            0\n",
            "Saraf                                              0\n",
            "Pulmonologi (Paru)                                 0\n",
            "Umum                                               0\n",
            "dtype: int64\n",
            "(2927, 20)\n"
          ]
        }
      ],
      "source": [
        "print(df_testing_data_clean.isnull().sum())\n",
        "print(df_testing_data_clean.shape)"
      ]
    },
    {
      "cell_type": "code",
      "execution_count": null,
      "metadata": {
        "colab": {
          "base_uri": "https://localhost:8080/",
          "height": 739
        },
        "id": "RRVEJLwIvQjd",
        "outputId": "597979d8-865d-4186-dfbe-143beda34803"
      },
      "outputs": [
        {
          "data": {
            "text/html": [
              "<div>\n",
              "<style scoped>\n",
              "    .dataframe tbody tr th:only-of-type {\n",
              "        vertical-align: middle;\n",
              "    }\n",
              "\n",
              "    .dataframe tbody tr th {\n",
              "        vertical-align: top;\n",
              "    }\n",
              "\n",
              "    .dataframe thead th {\n",
              "        text-align: right;\n",
              "    }\n",
              "</style>\n",
              "<table border=\"1\" class=\"dataframe\">\n",
              "  <thead>\n",
              "    <tr style=\"text-align: right;\">\n",
              "      <th></th>\n",
              "      <th>ID</th>\n",
              "      <th>JUDUL</th>\n",
              "      <th>ISI</th>\n",
              "      <th>Unnamed: 0</th>\n",
              "      <th>Kebidanan dan Kandungan</th>\n",
              "      <th>Penyakit Dalam</th>\n",
              "      <th>Kesehatan Anak</th>\n",
              "      <th>Kesehatan Kulit dan Kelamin</th>\n",
              "      <th>Kesehatan Gizi</th>\n",
              "      <th>Kesehatan Telinga, Hidung dan Tenggorokan (THT)</th>\n",
              "      <th>Gigi</th>\n",
              "      <th>Kesehatan Mata</th>\n",
              "      <th>Bedah</th>\n",
              "      <th>Kesehatan Jiwa</th>\n",
              "      <th>Ortopedi (Tulang)</th>\n",
              "      <th>Jantung dan Pembuluh Darah</th>\n",
              "      <th>Urologi</th>\n",
              "      <th>Saraf</th>\n",
              "      <th>Pulmonologi (Paru)</th>\n",
              "      <th>Umum</th>\n",
              "    </tr>\n",
              "  </thead>\n",
              "  <tbody>\n",
              "    <tr>\n",
              "      <th>0</th>\n",
              "      <td>DS-45</td>\n",
              "      <td>kenapa telinga berdengung tidak bisa hilang ?</td>\n",
              "      <td>selamat sore dokter , sudah 7 hari telinga say...</td>\n",
              "      <td>120</td>\n",
              "      <td>0</td>\n",
              "      <td>0</td>\n",
              "      <td>0</td>\n",
              "      <td>0</td>\n",
              "      <td>0</td>\n",
              "      <td>1</td>\n",
              "      <td>0</td>\n",
              "      <td>0</td>\n",
              "      <td>0</td>\n",
              "      <td>0</td>\n",
              "      <td>0</td>\n",
              "      <td>0</td>\n",
              "      <td>0</td>\n",
              "      <td>0</td>\n",
              "      <td>0</td>\n",
              "      <td>0</td>\n",
              "    </tr>\n",
              "    <tr>\n",
              "      <th>1</th>\n",
              "      <td>DS-339</td>\n",
              "      <td>apabila anak anda lambat berbicara</td>\n",
              "      <td>salam kenal team doktersehat , anak saya berum...</td>\n",
              "      <td>40</td>\n",
              "      <td>0</td>\n",
              "      <td>0</td>\n",
              "      <td>1</td>\n",
              "      <td>0</td>\n",
              "      <td>0</td>\n",
              "      <td>0</td>\n",
              "      <td>0</td>\n",
              "      <td>0</td>\n",
              "      <td>0</td>\n",
              "      <td>0</td>\n",
              "      <td>0</td>\n",
              "      <td>0</td>\n",
              "      <td>0</td>\n",
              "      <td>0</td>\n",
              "      <td>0</td>\n",
              "      <td>0</td>\n",
              "    </tr>\n",
              "    <tr>\n",
              "      <th>2</th>\n",
              "      <td>AD-18</td>\n",
              "      <td>sakit perut setiap habis makan dan minum</td>\n",
              "      <td>selamat malam dok , kurang lebih 2 minggu ini ...</td>\n",
              "      <td>500</td>\n",
              "      <td>0</td>\n",
              "      <td>1</td>\n",
              "      <td>0</td>\n",
              "      <td>0</td>\n",
              "      <td>0</td>\n",
              "      <td>0</td>\n",
              "      <td>0</td>\n",
              "      <td>0</td>\n",
              "      <td>1</td>\n",
              "      <td>0</td>\n",
              "      <td>0</td>\n",
              "      <td>0</td>\n",
              "      <td>0</td>\n",
              "      <td>0</td>\n",
              "      <td>0</td>\n",
              "      <td>1</td>\n",
              "    </tr>\n",
              "    <tr>\n",
              "      <th>3</th>\n",
              "      <td>AD-66</td>\n",
              "      <td>cara mengobati vertigo berkepanjangan</td>\n",
              "      <td>selamat malam dok saya ingin brtnya seputar ve...</td>\n",
              "      <td>501</td>\n",
              "      <td>0</td>\n",
              "      <td>0</td>\n",
              "      <td>0</td>\n",
              "      <td>0</td>\n",
              "      <td>0</td>\n",
              "      <td>0</td>\n",
              "      <td>0</td>\n",
              "      <td>0</td>\n",
              "      <td>0</td>\n",
              "      <td>0</td>\n",
              "      <td>0</td>\n",
              "      <td>0</td>\n",
              "      <td>0</td>\n",
              "      <td>1</td>\n",
              "      <td>0</td>\n",
              "      <td>1</td>\n",
              "    </tr>\n",
              "    <tr>\n",
              "      <th>4</th>\n",
              "      <td>AD-73</td>\n",
              "      <td>imunisasi dapat dan polio</td>\n",
              "      <td>malam dok , anak saya umur 5 tahun permpuan . ...</td>\n",
              "      <td>502</td>\n",
              "      <td>0</td>\n",
              "      <td>0</td>\n",
              "      <td>1</td>\n",
              "      <td>0</td>\n",
              "      <td>0</td>\n",
              "      <td>0</td>\n",
              "      <td>0</td>\n",
              "      <td>0</td>\n",
              "      <td>0</td>\n",
              "      <td>0</td>\n",
              "      <td>0</td>\n",
              "      <td>0</td>\n",
              "      <td>0</td>\n",
              "      <td>0</td>\n",
              "      <td>0</td>\n",
              "      <td>0</td>\n",
              "    </tr>\n",
              "  </tbody>\n",
              "</table>\n",
              "</div>"
            ],
            "text/plain": [
              "       ID                                          JUDUL  \\\n",
              "0   DS-45  kenapa telinga berdengung tidak bisa hilang ?   \n",
              "1  DS-339             apabila anak anda lambat berbicara   \n",
              "2   AD-18       sakit perut setiap habis makan dan minum   \n",
              "3   AD-66          cara mengobati vertigo berkepanjangan   \n",
              "4   AD-73                      imunisasi dapat dan polio   \n",
              "\n",
              "                                                 ISI  Unnamed: 0  \\\n",
              "0  selamat sore dokter , sudah 7 hari telinga say...         120   \n",
              "1  salam kenal team doktersehat , anak saya berum...          40   \n",
              "2  selamat malam dok , kurang lebih 2 minggu ini ...         500   \n",
              "3  selamat malam dok saya ingin brtnya seputar ve...         501   \n",
              "4  malam dok , anak saya umur 5 tahun permpuan . ...         502   \n",
              "\n",
              "   Kebidanan dan Kandungan  Penyakit Dalam  Kesehatan Anak  \\\n",
              "0                        0               0               0   \n",
              "1                        0               0               1   \n",
              "2                        0               1               0   \n",
              "3                        0               0               0   \n",
              "4                        0               0               1   \n",
              "\n",
              "   Kesehatan Kulit dan Kelamin  Kesehatan Gizi  \\\n",
              "0                            0               0   \n",
              "1                            0               0   \n",
              "2                            0               0   \n",
              "3                            0               0   \n",
              "4                            0               0   \n",
              "\n",
              "   Kesehatan Telinga, Hidung dan Tenggorokan (THT)  Gigi  Kesehatan Mata  \\\n",
              "0                                                1     0               0   \n",
              "1                                                0     0               0   \n",
              "2                                                0     0               0   \n",
              "3                                                0     0               0   \n",
              "4                                                0     0               0   \n",
              "\n",
              "   Bedah  Kesehatan Jiwa  Ortopedi (Tulang)  Jantung dan Pembuluh Darah  \\\n",
              "0      0               0                  0                           0   \n",
              "1      0               0                  0                           0   \n",
              "2      1               0                  0                           0   \n",
              "3      0               0                  0                           0   \n",
              "4      0               0                  0                           0   \n",
              "\n",
              "   Urologi  Saraf  Pulmonologi (Paru)  Umum  \n",
              "0        0      0                   0     0  \n",
              "1        0      0                   0     0  \n",
              "2        0      0                   0     1  \n",
              "3        0      1                   0     1  \n",
              "4        0      0                   0     0  "
            ]
          },
          "execution_count": 34,
          "metadata": {},
          "output_type": "execute_result"
        }
      ],
      "source": [
        "df_testing_data_clean.head()"
      ]
    },
    {
      "cell_type": "markdown",
      "metadata": {
        "id": "z80TdPSTiwcJ"
      },
      "source": [
        "### Text preprocessing"
      ]
    },
    {
      "cell_type": "code",
      "execution_count": null,
      "metadata": {
        "id": "C5GzVpi4iyQs"
      },
      "outputs": [],
      "source": [
        "# Fungsi untuk melakukan normalisasi pada suatu teks\n",
        "\n",
        "def normalize(text):\n",
        "    res = text.lower().strip() # Mengubah uppercase menjadi lowercase dan melakukan trimming pada teks\n",
        "    res = re.sub(\"\\d\", \"\", res) # Menghilangkan angka\n",
        "    res = re.sub(\"\\s+\", \" \", res) # Menghilangkan spasi berlebih\n",
        "    res = re.sub(\"[^\\w\\s]\", \" \", res) # Menghilangkan tanda baca\n",
        "    return res"
      ]
    },
    {
      "cell_type": "code",
      "execution_count": null,
      "metadata": {
        "id": "V8wdjPIli5RZ"
      },
      "outputs": [],
      "source": [
        "from Sastrawi.StopWordRemover.StopWordRemoverFactory import StopWordRemoverFactory\n",
        "\n",
        "stop_factory = StopWordRemoverFactory()\n",
        "lst_stopword = stop_factory.get_stop_words()\n",
        "lst_stopword2 = ['dok', 'dokter', 'doktr', 'dkter', 'selamat', 'met', 'selamet', 'slamat', 'pagi', 'pgi', 'siang',  'sore', 'malam', 'malem', 'mlam', 'mlem', 'malm',\n",
        "                 'terima', 'makasih', 'terimakasih', 'kasih', 'halo', 'hai', 'tahun', 'usia', 'bulan', 'bln', 'minggu', 'yaa', 'thnks', 'thanks', 'jawabannya',\n",
        "                 'jawaban', 'soreh', 'salam', 'nanya', 'sebelumnya', 'waktunya', 'waktu', 'misi', 'permisi', 'balasannya', 'ditunggu', 'saran', 'penjelasan',\n",
        "                 'solusi', 'bantuan', 'bantuannya', 'penjelasannya', 'solusinya', 'mohon', 'sarannya', 'informasi', 'assalamualaikum', 'wassalam', 'wassalammualaikum', \n",
        "                 'wr', 'wb', 'salam', 'sejahtera', 'assalammu', 'alaikum', 'dear', 'syalom', 'shalom', 'kemarin', 'kemaren']\n",
        "lst_stopword = lst_stopword + lst_stopword2\n",
        "\n",
        "# Fungsi untuk menghilangkan stopword dari suatu teks\n",
        "def remove_stopword(text):\n",
        "    lst_token = text.split(\" \")\n",
        "    res = []\n",
        "    for token in lst_token:\n",
        "        if token not in lst_stopword:\n",
        "            res.append(token)\n",
        "    return \" \".join(res)"
      ]
    },
    {
      "cell_type": "code",
      "execution_count": null,
      "metadata": {
        "id": "xqDx96Qz1PKH"
      },
      "outputs": [],
      "source": [
        "from Sastrawi.Stemmer.StemmerFactory import StemmerFactory\n",
        "\n",
        "stemmer_factory = StemmerFactory()\n",
        "stemmer = stemmer_factory.create_stemmer()"
      ]
    },
    {
      "cell_type": "code",
      "execution_count": null,
      "metadata": {
        "id": "vaPjZVAEjOkg"
      },
      "outputs": [],
      "source": [
        "def text_preprocessing(text_list, column_name):\n",
        "  for x in range(len(text_list)):\n",
        "    if (text_list.iloc[x][column_name] is None):\n",
        "      text_list.loc[x,[column_name]] = ''\n",
        "    normalized_text = normalize(text_list.iloc[x][column_name])\n",
        "    cleaned_text_stopword = remove_stopword(normalized_text)\n",
        "    cleaned_text_stemmer = stemmer.stem(cleaned_text_stopword)\n",
        "    text_list.loc[x,[column_name]] = cleaned_text_stemmer"
      ]
    },
    {
      "cell_type": "code",
      "execution_count": null,
      "metadata": {
        "id": "dUkYSNSni7_w"
      },
      "outputs": [],
      "source": [
        "text_preprocessing(df_data_clean, 'JUDUL')\n",
        "text_preprocessing(df_data_clean, 'ISI')"
      ]
    },
    {
      "cell_type": "code",
      "execution_count": null,
      "metadata": {
        "id": "v_lUpZYQWUly"
      },
      "outputs": [],
      "source": [
        "text_preprocessing(df_testing_data_clean, 'JUDUL')\n",
        "text_preprocessing(df_testing_data_clean, 'ISI')"
      ]
    },
    {
      "cell_type": "code",
      "execution_count": null,
      "metadata": {
        "colab": {
          "base_uri": "https://localhost:8080/"
        },
        "id": "V_T1dl3HgmCZ",
        "outputId": "cd80894d-5c89-4f17-aa55-20fc70b63e17"
      },
      "outputs": [
        {
          "name": "stdout",
          "output_type": "stream",
          "text": [
            "gatal gatal bintik merah kelamin\n",
            "cowok ko alat kelamin gatal bintik merah pala bentol tadu si gatal paha jalar kelamin sakit obat\n",
            "\n",
            "buang air\n",
            "bolak buang air jam kamar mandi buang air periksa suruh tes urine glukosa hasil tes normal kendala infeksi mudah meriang infeksi ginjal uretra\n",
            "\n",
            "sebab nyeri dada\n",
            "anak laki laki umur konsultasi alami alami nyeri dada beda nyeri dada alami capai habis aktivitas nyeri nyeri dada alami nyeri belah kiri nyeri beda sakit jadi ulang selang alami nyeri dada belah kanan nyeri dada belah kanan alami\n",
            "\n",
            "tangan luka gigit anjing\n",
            "gigit anjing anjing vaksin akibat\n",
            "\n",
            "insomnia pikir\n",
            "knlin nma riwayat sinaga mngalami insomnia tahun llu smnjak keprgian brsamaan kjadian bsar mndera pkerjaan llu kartu keluarga msuk bui kasih ptus tnp alas jls\n",
            "\n"
          ]
        }
      ],
      "source": [
        "# Melihat hasil pra-pemrosesan teks\n",
        "\n",
        "for i in range(5):\n",
        "    print(df_data_clean.iloc[i]['JUDUL'])\n",
        "    print(df_data_clean.iloc[i]['ISI'])\n",
        "    print(\"\")"
      ]
    },
    {
      "cell_type": "code",
      "execution_count": null,
      "metadata": {
        "colab": {
          "base_uri": "https://localhost:8080/"
        },
        "id": "VpWALpIo4rIc",
        "outputId": "1fb68bd4-cd16-46d4-eba2-2ee2ac75be93"
      },
      "outputs": [
        {
          "name": "stdout",
          "output_type": "stream",
          "text": [
            "telinga dengung hilang\n",
            "telinga dengung dokter tht gendang telinga lubang kasih obat tetes ofloxacin dengung hilang dwi\n",
            "\n",
            "anak lambat bicara\n",
            "kenal team doktersehat anak umur bicara maem minum bilang maem binatang bilang au paham perintah laku masuk bunda rien kenal bunda rien skala dayley anak sama subyek predikat obyek contoh papa pergi denver ii anak sebut gambar kombinasi tubuh anak bicara lambat bicara laku temu spesialis anak periksa anak tangan speech therapy aju moga bantu mira della masali ked team doktersehat com\n",
            "\n",
            "sakit perut habis makan minum\n",
            "bangun minum air cc perut mulas makan nasi sendok minum obat darah tinggi resep beliau tidur bangun jam bangun tidur berani minum air minum air perut mulas buang air bentuk fasesnya encer badan gemetar tangan semut makan roti lembar minum air kondisi lapar badan gemetar makan badan semut jam beliau makan nasi sendok syaraf makan kenyang kenyang alami keluh gelisah badan gemetar kunjung umum spesialis syaraf hasil tegang milik tekan darah tinggi cek darah lengkap syaraf obat tenang obat darah tinggi obat maag makan jam beliau tenang alami semut badan gemetar minum obat tenang langkah ambil tenang\n",
            "\n",
            "obat vertigo panjang\n",
            "brtnya putar vertigo lumayan mnderita sakit kepala berkepnjngan berkli periksa bilang mngalami vertigo kuranh vertigo alaami akibat posisi nada brsma mngontrol sedia mmberikn sdkit pnjlsn ulas mngobati vertigo derita perhati\n",
            "\n",
            "imunisasi polio\n",
            "anak umur permpuan suntik imunisasi polio besok tangan bengkak belah kanan terang khawatir\n",
            "\n"
          ]
        }
      ],
      "source": [
        "# Melihat hasil pra-pemrosesan teks\n",
        "\n",
        "for i in range(5):\n",
        "    print(df_testing_data_clean.iloc[i]['JUDUL'])\n",
        "    print(df_testing_data_clean.iloc[i]['ISI'])\n",
        "    print(\"\")"
      ]
    },
    {
      "cell_type": "markdown",
      "metadata": {
        "id": "qPRHXF8CKQLA"
      },
      "source": [
        "## Classification"
      ]
    },
    {
      "cell_type": "markdown",
      "metadata": {
        "id": "nB3VkEbxIcEa"
      },
      "source": [
        "#### Helper"
      ]
    },
    {
      "cell_type": "code",
      "execution_count": null,
      "metadata": {
        "id": "t_W6y3xQMrpH"
      },
      "outputs": [],
      "source": [
        "from sklearn.metrics import accuracy_score,hamming_loss, f1_score, recall_score, precision_score, classification_report\n",
        "\n",
        "test_label = np.asarray(df_testing_data_clean[df_testing_data_clean.columns[4:]])\n",
        "\n",
        "def evaluate_classifier_performance(predict_result, test_label=test_label):\n",
        "  print('Accuracy:', accuracy_score(test_label, predict_result))\n",
        "  print('Hamming Loss:', hamming_loss(test_label, predict_result))\n",
        "  print('F1 macro:', f1_score(test_label, predict_result, average='macro'))\n",
        "  print('F1 micro:', f1_score(test_label, predict_result, average='micro'))\n",
        "  print('Recall macro:', recall_score(test_label, predict_result, average='macro'))\n",
        "  print('Recall micro:', recall_score(test_label, predict_result, average='micro'))\n",
        "  print('Precision macro:', precision_score(test_label, predict_result, average='macro'))\n",
        "  print('Precision micro:', precision_score(test_label, predict_result, average='micro'))"
      ]
    },
    {
      "cell_type": "code",
      "execution_count": null,
      "metadata": {
        "id": "JVmvDH4uG41q"
      },
      "outputs": [],
      "source": [
        "def convert_to_csv(predict_df, pred_res, df_data):\n",
        "  predict_df['class1'] = [item[0] for item in pred_res]\n",
        "  predict_df['class2'] = [item[1] for item in pred_res]\n",
        "  predict_df['class3'] = [item[2] for item in pred_res]\n",
        "  predict_df['class4'] = [item[3] for item in pred_res]\n",
        "  predict_df['class5'] = [item[4] for item in pred_res]\n",
        "  predict_df['class6'] = [item[5] for item in pred_res]\n",
        "  predict_df['class7'] = [item[6] for item in pred_res]\n",
        "  predict_df['class8'] = [item[7] for item in pred_res]\n",
        "  predict_df['class9'] = [item[8] for item in pred_res]\n",
        "  predict_df['class10'] = [item[9] for item in pred_res]\n",
        "  predict_df['class11'] = [item[10] for item in pred_res]\n",
        "  predict_df['class12'] = [item[11] for item in pred_res]\n",
        "  predict_df['class13'] = [item[12] for item in pred_res]\n",
        "  predict_df['class14'] = [item[13] for item in pred_res]\n",
        "  predict_df['class15'] = [item[14] for item in pred_res]\n",
        "  predict_df['class16'] = [item[15] for item in pred_res]\n",
        "\n",
        "  predict_df['JUDUL'] = [(df_data.loc[[i]]['ID'].values)[0] for i in predict_df.index]\n",
        "  return(predict_df)"
      ]
    },
    {
      "cell_type": "markdown",
      "metadata": {
        "id": "WaNYnv4R9fHC"
      },
      "source": [
        "#### Ensemble Learning "
      ]
    },
    {
      "cell_type": "markdown",
      "metadata": {
        "id": "QMti5G0Oi291"
      },
      "source": [
        "##### Random Forest"
      ]
    },
    {
      "cell_type": "markdown",
      "metadata": {
        "id": "Xjt0Lqbp8yLw"
      },
      "source": [
        "###### Berdasarkan Judul Machine Annotated"
      ]
    },
    {
      "cell_type": "code",
      "execution_count": null,
      "metadata": {
        "id": "IWNZ4Eat8_sJ"
      },
      "outputs": [],
      "source": [
        "X_j = df_data_clean['JUDUL'] \n",
        "y_j = np.asarray(df_data_clean[df_data_clean.columns[3:]])\n",
        "test_j = df_testing_data_clean['JUDUL'] "
      ]
    },
    {
      "cell_type": "code",
      "execution_count": null,
      "metadata": {
        "id": "MDQtnkOf8_sK"
      },
      "outputs": [],
      "source": [
        "from sklearn.feature_extraction.text import TfidfVectorizer\n",
        "\n",
        "vectorizer_j = TfidfVectorizer()\n",
        "\n",
        "train_vector_j = vectorizer_j.fit_transform(X_j).toarray()\n",
        "test_vector_j = vectorizer_j.transform(test_j).toarray()"
      ]
    },
    {
      "cell_type": "code",
      "execution_count": null,
      "metadata": {
        "colab": {
          "base_uri": "https://localhost:8080/"
        },
        "id": "aS9KknkC8_sK",
        "outputId": "a21617af-f1af-4b83-b3d5-a6cdfddef011"
      },
      "outputs": [
        {
          "data": {
            "text/html": [
              "<style>#sk-container-id-1 {color: black;background-color: white;}#sk-container-id-1 pre{padding: 0;}#sk-container-id-1 div.sk-toggleable {background-color: white;}#sk-container-id-1 label.sk-toggleable__label {cursor: pointer;display: block;width: 100%;margin-bottom: 0;padding: 0.3em;box-sizing: border-box;text-align: center;}#sk-container-id-1 label.sk-toggleable__label-arrow:before {content: \"▸\";float: left;margin-right: 0.25em;color: #696969;}#sk-container-id-1 label.sk-toggleable__label-arrow:hover:before {color: black;}#sk-container-id-1 div.sk-estimator:hover label.sk-toggleable__label-arrow:before {color: black;}#sk-container-id-1 div.sk-toggleable__content {max-height: 0;max-width: 0;overflow: hidden;text-align: left;background-color: #f0f8ff;}#sk-container-id-1 div.sk-toggleable__content pre {margin: 0.2em;color: black;border-radius: 0.25em;background-color: #f0f8ff;}#sk-container-id-1 input.sk-toggleable__control:checked~div.sk-toggleable__content {max-height: 200px;max-width: 100%;overflow: auto;}#sk-container-id-1 input.sk-toggleable__control:checked~label.sk-toggleable__label-arrow:before {content: \"▾\";}#sk-container-id-1 div.sk-estimator input.sk-toggleable__control:checked~label.sk-toggleable__label {background-color: #d4ebff;}#sk-container-id-1 div.sk-label input.sk-toggleable__control:checked~label.sk-toggleable__label {background-color: #d4ebff;}#sk-container-id-1 input.sk-hidden--visually {border: 0;clip: rect(1px 1px 1px 1px);clip: rect(1px, 1px, 1px, 1px);height: 1px;margin: -1px;overflow: hidden;padding: 0;position: absolute;width: 1px;}#sk-container-id-1 div.sk-estimator {font-family: monospace;background-color: #f0f8ff;border: 1px dotted black;border-radius: 0.25em;box-sizing: border-box;margin-bottom: 0.5em;}#sk-container-id-1 div.sk-estimator:hover {background-color: #d4ebff;}#sk-container-id-1 div.sk-parallel-item::after {content: \"\";width: 100%;border-bottom: 1px solid gray;flex-grow: 1;}#sk-container-id-1 div.sk-label:hover label.sk-toggleable__label {background-color: #d4ebff;}#sk-container-id-1 div.sk-serial::before {content: \"\";position: absolute;border-left: 1px solid gray;box-sizing: border-box;top: 0;bottom: 0;left: 50%;z-index: 0;}#sk-container-id-1 div.sk-serial {display: flex;flex-direction: column;align-items: center;background-color: white;padding-right: 0.2em;padding-left: 0.2em;position: relative;}#sk-container-id-1 div.sk-item {position: relative;z-index: 1;}#sk-container-id-1 div.sk-parallel {display: flex;align-items: stretch;justify-content: center;background-color: white;position: relative;}#sk-container-id-1 div.sk-item::before, #sk-container-id-1 div.sk-parallel-item::before {content: \"\";position: absolute;border-left: 1px solid gray;box-sizing: border-box;top: 0;bottom: 0;left: 50%;z-index: -1;}#sk-container-id-1 div.sk-parallel-item {display: flex;flex-direction: column;z-index: 1;position: relative;background-color: white;}#sk-container-id-1 div.sk-parallel-item:first-child::after {align-self: flex-end;width: 50%;}#sk-container-id-1 div.sk-parallel-item:last-child::after {align-self: flex-start;width: 50%;}#sk-container-id-1 div.sk-parallel-item:only-child::after {width: 0;}#sk-container-id-1 div.sk-dashed-wrapped {border: 1px dashed gray;margin: 0 0.4em 0.5em 0.4em;box-sizing: border-box;padding-bottom: 0.4em;background-color: white;}#sk-container-id-1 div.sk-label label {font-family: monospace;font-weight: bold;display: inline-block;line-height: 1.2em;}#sk-container-id-1 div.sk-label-container {text-align: center;}#sk-container-id-1 div.sk-container {/* jupyter's `normalize.less` sets `[hidden] { display: none; }` but bootstrap.min.css set `[hidden] { display: none !important; }` so we also need the `!important` here to be able to override the default hidden behavior on the sphinx rendered scikit-learn.org. See: https://github.com/scikit-learn/scikit-learn/issues/21755 */display: inline-block !important;position: relative;}#sk-container-id-1 div.sk-text-repr-fallback {display: none;}</style><div id=\"sk-container-id-1\" class=\"sk-top-container\"><div class=\"sk-text-repr-fallback\"><pre>RandomForestClassifier(n_estimators=250, random_state=2022)</pre><b>In a Jupyter environment, please rerun this cell to show the HTML representation or trust the notebook. <br />On GitHub, the HTML representation is unable to render, please try loading this page with nbviewer.org.</b></div><div class=\"sk-container\" hidden><div class=\"sk-item\"><div class=\"sk-estimator sk-toggleable\"><input class=\"sk-toggleable__control sk-hidden--visually\" id=\"sk-estimator-id-1\" type=\"checkbox\" checked><label for=\"sk-estimator-id-1\" class=\"sk-toggleable__label sk-toggleable__label-arrow\">RandomForestClassifier</label><div class=\"sk-toggleable__content\"><pre>RandomForestClassifier(n_estimators=250, random_state=2022)</pre></div></div></div></div></div>"
            ],
            "text/plain": [
              "RandomForestClassifier(n_estimators=250, random_state=2022)"
            ]
          },
          "execution_count": 47,
          "metadata": {},
          "output_type": "execute_result"
        }
      ],
      "source": [
        "# Membangun model klasifikasi dan melakukan evaluasi terhadap performa model\n",
        "from sklearn.ensemble import RandomForestClassifier\n",
        "\n",
        "# using Random forest classifier\n",
        "rfc_j = RandomForestClassifier(n_estimators=250, random_state=2022)\n",
        "rfc_j.fit(train_vector_j,y_j)\n"
      ]
    },
    {
      "cell_type": "code",
      "execution_count": null,
      "metadata": {
        "id": "gLuM1nFE8_sK"
      },
      "outputs": [],
      "source": [
        "pred_res_j = rfc_j.predict(test_vector_j)"
      ]
    },
    {
      "cell_type": "code",
      "execution_count": null,
      "metadata": {
        "colab": {
          "base_uri": "https://localhost:8080/"
        },
        "id": "Ladt3_yi8_sK",
        "outputId": "171c90fe-f693-4f29-9d62-35acad8f1302"
      },
      "outputs": [
        {
          "name": "stdout",
          "output_type": "stream",
          "text": [
            "Berdasarkan Judul Machine Annotated\n",
            "Accuracy: 0.4670310898530919\n",
            "Hamming Loss: 0.059062179706183805\n",
            "F1 macro: 0.6412557136042739\n",
            "F1 micro: 0.657164105106594\n",
            "Recall macro: 0.5817162190637848\n",
            "Recall micro: 0.5881961393388063\n",
            "Precision macro: 0.7346410400036132\n",
            "Precision micro: 0.7444538051109238\n"
          ]
        }
      ],
      "source": [
        "print(\"Berdasarkan Judul Machine Annotated\")\n",
        "evaluate_classifier_performance(pred_res_j)"
      ]
    },
    {
      "cell_type": "markdown",
      "metadata": {
        "id": "v5WAsKnq83CH"
      },
      "source": [
        "###### Berdasarkan Isi Machine Annotated"
      ]
    },
    {
      "cell_type": "code",
      "execution_count": null,
      "metadata": {
        "id": "peFDFHBl9AUr"
      },
      "outputs": [],
      "source": [
        "X_i = df_data_clean['ISI']\n",
        "y_i = np.asarray(df_data_clean[df_data_clean.columns[3:]])\n",
        "test_i = df_testing_data_clean['ISI']"
      ]
    },
    {
      "cell_type": "code",
      "execution_count": null,
      "metadata": {
        "id": "YLXctvRJ9AUs"
      },
      "outputs": [],
      "source": [
        "from sklearn.feature_extraction.text import TfidfVectorizer\n",
        "\n",
        "vectorizer_i = TfidfVectorizer()\n",
        "\n",
        "train_vector_i = vectorizer_i.fit_transform(X_i).toarray()\n",
        "test_vector_i = vectorizer_i.transform(test_i).toarray()"
      ]
    },
    {
      "cell_type": "code",
      "execution_count": null,
      "metadata": {
        "colab": {
          "base_uri": "https://localhost:8080/"
        },
        "id": "6X4aOCwk9AUs",
        "outputId": "244dde99-f311-4d9e-e987-c11c77424313"
      },
      "outputs": [
        {
          "data": {
            "text/html": [
              "<style>#sk-container-id-2 {color: black;background-color: white;}#sk-container-id-2 pre{padding: 0;}#sk-container-id-2 div.sk-toggleable {background-color: white;}#sk-container-id-2 label.sk-toggleable__label {cursor: pointer;display: block;width: 100%;margin-bottom: 0;padding: 0.3em;box-sizing: border-box;text-align: center;}#sk-container-id-2 label.sk-toggleable__label-arrow:before {content: \"▸\";float: left;margin-right: 0.25em;color: #696969;}#sk-container-id-2 label.sk-toggleable__label-arrow:hover:before {color: black;}#sk-container-id-2 div.sk-estimator:hover label.sk-toggleable__label-arrow:before {color: black;}#sk-container-id-2 div.sk-toggleable__content {max-height: 0;max-width: 0;overflow: hidden;text-align: left;background-color: #f0f8ff;}#sk-container-id-2 div.sk-toggleable__content pre {margin: 0.2em;color: black;border-radius: 0.25em;background-color: #f0f8ff;}#sk-container-id-2 input.sk-toggleable__control:checked~div.sk-toggleable__content {max-height: 200px;max-width: 100%;overflow: auto;}#sk-container-id-2 input.sk-toggleable__control:checked~label.sk-toggleable__label-arrow:before {content: \"▾\";}#sk-container-id-2 div.sk-estimator input.sk-toggleable__control:checked~label.sk-toggleable__label {background-color: #d4ebff;}#sk-container-id-2 div.sk-label input.sk-toggleable__control:checked~label.sk-toggleable__label {background-color: #d4ebff;}#sk-container-id-2 input.sk-hidden--visually {border: 0;clip: rect(1px 1px 1px 1px);clip: rect(1px, 1px, 1px, 1px);height: 1px;margin: -1px;overflow: hidden;padding: 0;position: absolute;width: 1px;}#sk-container-id-2 div.sk-estimator {font-family: monospace;background-color: #f0f8ff;border: 1px dotted black;border-radius: 0.25em;box-sizing: border-box;margin-bottom: 0.5em;}#sk-container-id-2 div.sk-estimator:hover {background-color: #d4ebff;}#sk-container-id-2 div.sk-parallel-item::after {content: \"\";width: 100%;border-bottom: 1px solid gray;flex-grow: 1;}#sk-container-id-2 div.sk-label:hover label.sk-toggleable__label {background-color: #d4ebff;}#sk-container-id-2 div.sk-serial::before {content: \"\";position: absolute;border-left: 1px solid gray;box-sizing: border-box;top: 0;bottom: 0;left: 50%;z-index: 0;}#sk-container-id-2 div.sk-serial {display: flex;flex-direction: column;align-items: center;background-color: white;padding-right: 0.2em;padding-left: 0.2em;position: relative;}#sk-container-id-2 div.sk-item {position: relative;z-index: 1;}#sk-container-id-2 div.sk-parallel {display: flex;align-items: stretch;justify-content: center;background-color: white;position: relative;}#sk-container-id-2 div.sk-item::before, #sk-container-id-2 div.sk-parallel-item::before {content: \"\";position: absolute;border-left: 1px solid gray;box-sizing: border-box;top: 0;bottom: 0;left: 50%;z-index: -1;}#sk-container-id-2 div.sk-parallel-item {display: flex;flex-direction: column;z-index: 1;position: relative;background-color: white;}#sk-container-id-2 div.sk-parallel-item:first-child::after {align-self: flex-end;width: 50%;}#sk-container-id-2 div.sk-parallel-item:last-child::after {align-self: flex-start;width: 50%;}#sk-container-id-2 div.sk-parallel-item:only-child::after {width: 0;}#sk-container-id-2 div.sk-dashed-wrapped {border: 1px dashed gray;margin: 0 0.4em 0.5em 0.4em;box-sizing: border-box;padding-bottom: 0.4em;background-color: white;}#sk-container-id-2 div.sk-label label {font-family: monospace;font-weight: bold;display: inline-block;line-height: 1.2em;}#sk-container-id-2 div.sk-label-container {text-align: center;}#sk-container-id-2 div.sk-container {/* jupyter's `normalize.less` sets `[hidden] { display: none; }` but bootstrap.min.css set `[hidden] { display: none !important; }` so we also need the `!important` here to be able to override the default hidden behavior on the sphinx rendered scikit-learn.org. See: https://github.com/scikit-learn/scikit-learn/issues/21755 */display: inline-block !important;position: relative;}#sk-container-id-2 div.sk-text-repr-fallback {display: none;}</style><div id=\"sk-container-id-2\" class=\"sk-top-container\"><div class=\"sk-text-repr-fallback\"><pre>RandomForestClassifier(n_estimators=250, random_state=2022)</pre><b>In a Jupyter environment, please rerun this cell to show the HTML representation or trust the notebook. <br />On GitHub, the HTML representation is unable to render, please try loading this page with nbviewer.org.</b></div><div class=\"sk-container\" hidden><div class=\"sk-item\"><div class=\"sk-estimator sk-toggleable\"><input class=\"sk-toggleable__control sk-hidden--visually\" id=\"sk-estimator-id-2\" type=\"checkbox\" checked><label for=\"sk-estimator-id-2\" class=\"sk-toggleable__label sk-toggleable__label-arrow\">RandomForestClassifier</label><div class=\"sk-toggleable__content\"><pre>RandomForestClassifier(n_estimators=250, random_state=2022)</pre></div></div></div></div></div>"
            ],
            "text/plain": [
              "RandomForestClassifier(n_estimators=250, random_state=2022)"
            ]
          },
          "execution_count": 52,
          "metadata": {},
          "output_type": "execute_result"
        }
      ],
      "source": [
        "# Membangun model klasifikasi dan melakukan evaluasi terhadap performa model\n",
        "from sklearn.ensemble import RandomForestClassifier\n",
        "\n",
        "# using Random forest classifier\n",
        "rfc_i = RandomForestClassifier(n_estimators=250, random_state=2022)\n",
        "rfc_i.fit(train_vector_i,y_i)\n"
      ]
    },
    {
      "cell_type": "code",
      "execution_count": null,
      "metadata": {
        "id": "tl-qNA0T9AUs"
      },
      "outputs": [],
      "source": [
        "pred_res_i = rfc_i.predict(test_vector_i)"
      ]
    },
    {
      "cell_type": "code",
      "execution_count": null,
      "metadata": {
        "colab": {
          "base_uri": "https://localhost:8080/"
        },
        "id": "06nV9IWe9AUs",
        "outputId": "94cb358e-d50b-4d09-b65f-ca77cbc319f1"
      },
      "outputs": [
        {
          "name": "stdout",
          "output_type": "stream",
          "text": [
            "Berdasarkan Isi Machine Annotated\n",
            "Accuracy: 0.3652203621455415\n",
            "Hamming Loss: 0.06375982234369662\n",
            "F1 macro: 0.5080676942166986\n",
            "F1 micro: 0.5626830697129466\n",
            "Recall macro: 0.3906163815286817\n",
            "Recall micro: 0.4262258708675394\n",
            "Precision macro: 0.823899974825145\n",
            "Precision micro: 0.8276604911676002\n"
          ]
        }
      ],
      "source": [
        "print(\"Berdasarkan Isi Machine Annotated\")\n",
        "evaluate_classifier_performance(pred_res_i)"
      ]
    },
    {
      "cell_type": "markdown",
      "metadata": {
        "id": "0e3ooVqqBD4c"
      },
      "source": [
        "###### Berdasarkan Judul dan Isi Machine Annotated"
      ]
    },
    {
      "cell_type": "code",
      "execution_count": null,
      "metadata": {
        "id": "1WaruNKs9e39"
      },
      "outputs": [],
      "source": [
        "X_ji = df_data_clean['JUDUL'] + ' ' + df_data_clean['ISI']\n",
        "y_ji = np.asarray(df_data_clean[df_data_clean.columns[3:]])\n",
        "test_ji = df_testing_data_clean['JUDUL'] + ' ' + df_testing_data_clean['ISI']"
      ]
    },
    {
      "cell_type": "code",
      "execution_count": null,
      "metadata": {
        "id": "w4tvI0y5BKqG"
      },
      "outputs": [],
      "source": [
        "from sklearn.feature_extraction.text import TfidfVectorizer\n",
        "\n",
        "vectorizer_ji = TfidfVectorizer()\n",
        "\n",
        "train_vector_ji = vectorizer_ji.fit_transform(X_ji).toarray()\n",
        "test_vector_ji = vectorizer_ji.transform(test_ji).toarray()"
      ]
    },
    {
      "cell_type": "code",
      "execution_count": null,
      "metadata": {
        "colab": {
          "base_uri": "https://localhost:8080/"
        },
        "id": "esg3crrIslcA",
        "outputId": "9bfaa45e-6831-4aba-d3e2-2c7461fa3a2f"
      },
      "outputs": [
        {
          "data": {
            "text/html": [
              "<style>#sk-container-id-3 {color: black;background-color: white;}#sk-container-id-3 pre{padding: 0;}#sk-container-id-3 div.sk-toggleable {background-color: white;}#sk-container-id-3 label.sk-toggleable__label {cursor: pointer;display: block;width: 100%;margin-bottom: 0;padding: 0.3em;box-sizing: border-box;text-align: center;}#sk-container-id-3 label.sk-toggleable__label-arrow:before {content: \"▸\";float: left;margin-right: 0.25em;color: #696969;}#sk-container-id-3 label.sk-toggleable__label-arrow:hover:before {color: black;}#sk-container-id-3 div.sk-estimator:hover label.sk-toggleable__label-arrow:before {color: black;}#sk-container-id-3 div.sk-toggleable__content {max-height: 0;max-width: 0;overflow: hidden;text-align: left;background-color: #f0f8ff;}#sk-container-id-3 div.sk-toggleable__content pre {margin: 0.2em;color: black;border-radius: 0.25em;background-color: #f0f8ff;}#sk-container-id-3 input.sk-toggleable__control:checked~div.sk-toggleable__content {max-height: 200px;max-width: 100%;overflow: auto;}#sk-container-id-3 input.sk-toggleable__control:checked~label.sk-toggleable__label-arrow:before {content: \"▾\";}#sk-container-id-3 div.sk-estimator input.sk-toggleable__control:checked~label.sk-toggleable__label {background-color: #d4ebff;}#sk-container-id-3 div.sk-label input.sk-toggleable__control:checked~label.sk-toggleable__label {background-color: #d4ebff;}#sk-container-id-3 input.sk-hidden--visually {border: 0;clip: rect(1px 1px 1px 1px);clip: rect(1px, 1px, 1px, 1px);height: 1px;margin: -1px;overflow: hidden;padding: 0;position: absolute;width: 1px;}#sk-container-id-3 div.sk-estimator {font-family: monospace;background-color: #f0f8ff;border: 1px dotted black;border-radius: 0.25em;box-sizing: border-box;margin-bottom: 0.5em;}#sk-container-id-3 div.sk-estimator:hover {background-color: #d4ebff;}#sk-container-id-3 div.sk-parallel-item::after {content: \"\";width: 100%;border-bottom: 1px solid gray;flex-grow: 1;}#sk-container-id-3 div.sk-label:hover label.sk-toggleable__label {background-color: #d4ebff;}#sk-container-id-3 div.sk-serial::before {content: \"\";position: absolute;border-left: 1px solid gray;box-sizing: border-box;top: 0;bottom: 0;left: 50%;z-index: 0;}#sk-container-id-3 div.sk-serial {display: flex;flex-direction: column;align-items: center;background-color: white;padding-right: 0.2em;padding-left: 0.2em;position: relative;}#sk-container-id-3 div.sk-item {position: relative;z-index: 1;}#sk-container-id-3 div.sk-parallel {display: flex;align-items: stretch;justify-content: center;background-color: white;position: relative;}#sk-container-id-3 div.sk-item::before, #sk-container-id-3 div.sk-parallel-item::before {content: \"\";position: absolute;border-left: 1px solid gray;box-sizing: border-box;top: 0;bottom: 0;left: 50%;z-index: -1;}#sk-container-id-3 div.sk-parallel-item {display: flex;flex-direction: column;z-index: 1;position: relative;background-color: white;}#sk-container-id-3 div.sk-parallel-item:first-child::after {align-self: flex-end;width: 50%;}#sk-container-id-3 div.sk-parallel-item:last-child::after {align-self: flex-start;width: 50%;}#sk-container-id-3 div.sk-parallel-item:only-child::after {width: 0;}#sk-container-id-3 div.sk-dashed-wrapped {border: 1px dashed gray;margin: 0 0.4em 0.5em 0.4em;box-sizing: border-box;padding-bottom: 0.4em;background-color: white;}#sk-container-id-3 div.sk-label label {font-family: monospace;font-weight: bold;display: inline-block;line-height: 1.2em;}#sk-container-id-3 div.sk-label-container {text-align: center;}#sk-container-id-3 div.sk-container {/* jupyter's `normalize.less` sets `[hidden] { display: none; }` but bootstrap.min.css set `[hidden] { display: none !important; }` so we also need the `!important` here to be able to override the default hidden behavior on the sphinx rendered scikit-learn.org. See: https://github.com/scikit-learn/scikit-learn/issues/21755 */display: inline-block !important;position: relative;}#sk-container-id-3 div.sk-text-repr-fallback {display: none;}</style><div id=\"sk-container-id-3\" class=\"sk-top-container\"><div class=\"sk-text-repr-fallback\"><pre>RandomForestClassifier(n_estimators=250, random_state=2022)</pre><b>In a Jupyter environment, please rerun this cell to show the HTML representation or trust the notebook. <br />On GitHub, the HTML representation is unable to render, please try loading this page with nbviewer.org.</b></div><div class=\"sk-container\" hidden><div class=\"sk-item\"><div class=\"sk-estimator sk-toggleable\"><input class=\"sk-toggleable__control sk-hidden--visually\" id=\"sk-estimator-id-3\" type=\"checkbox\" checked><label for=\"sk-estimator-id-3\" class=\"sk-toggleable__label sk-toggleable__label-arrow\">RandomForestClassifier</label><div class=\"sk-toggleable__content\"><pre>RandomForestClassifier(n_estimators=250, random_state=2022)</pre></div></div></div></div></div>"
            ],
            "text/plain": [
              "RandomForestClassifier(n_estimators=250, random_state=2022)"
            ]
          },
          "execution_count": 57,
          "metadata": {},
          "output_type": "execute_result"
        }
      ],
      "source": [
        "# Membangun model klasifikasi dan melakukan evaluasi terhadap performa model\n",
        "from sklearn.ensemble import RandomForestClassifier\n",
        "\n",
        "# using Random forest classifier\n",
        "rfc_ji = RandomForestClassifier(n_estimators=250, random_state=2022)\n",
        "rfc_ji.fit(train_vector_ji,y_ji)\n"
      ]
    },
    {
      "cell_type": "code",
      "execution_count": null,
      "metadata": {
        "id": "r7kj4xBRstPo"
      },
      "outputs": [],
      "source": [
        "pred_res_ji = rfc_ji.predict(test_vector_ji)"
      ]
    },
    {
      "cell_type": "code",
      "execution_count": null,
      "metadata": {
        "colab": {
          "base_uri": "https://localhost:8080/"
        },
        "id": "cqbfAtWfsx11",
        "outputId": "f8d950fd-59d6-49d3-b89a-319f971c9735"
      },
      "outputs": [
        {
          "name": "stdout",
          "output_type": "stream",
          "text": [
            "Berdasarkan Judul dan Isi Machine Annotated\n",
            "Accuracy: 0.38503587290741376\n",
            "Hamming Loss: 0.061154765971984965\n",
            "F1 macro: 0.540112304533507\n",
            "F1 micro: 0.5889781859931114\n",
            "Recall macro: 0.42113618329480806\n",
            "Recall micro: 0.45529176836032836\n",
            "Precision macro: 0.8377886996912831\n",
            "Precision micro: 0.8338073953677367\n"
          ]
        }
      ],
      "source": [
        "print(\"Berdasarkan Judul dan Isi Machine Annotated\")\n",
        "evaluate_classifier_performance(pred_res_ji)"
      ]
    },
    {
      "cell_type": "markdown",
      "metadata": {
        "id": "n9M-5IWSU94D"
      },
      "source": [
        "###### Berdasarkan Judul dan n-estimator lainnya"
      ]
    },
    {
      "cell_type": "code",
      "execution_count": null,
      "metadata": {
        "colab": {
          "base_uri": "https://localhost:8080/"
        },
        "id": "veIcMjc3V-_1",
        "outputId": "e58d8547-ead5-47af-c21c-a1d3403c34ce"
      },
      "outputs": [
        {
          "data": {
            "text/html": [
              "<style>#sk-container-id-4 {color: black;background-color: white;}#sk-container-id-4 pre{padding: 0;}#sk-container-id-4 div.sk-toggleable {background-color: white;}#sk-container-id-4 label.sk-toggleable__label {cursor: pointer;display: block;width: 100%;margin-bottom: 0;padding: 0.3em;box-sizing: border-box;text-align: center;}#sk-container-id-4 label.sk-toggleable__label-arrow:before {content: \"▸\";float: left;margin-right: 0.25em;color: #696969;}#sk-container-id-4 label.sk-toggleable__label-arrow:hover:before {color: black;}#sk-container-id-4 div.sk-estimator:hover label.sk-toggleable__label-arrow:before {color: black;}#sk-container-id-4 div.sk-toggleable__content {max-height: 0;max-width: 0;overflow: hidden;text-align: left;background-color: #f0f8ff;}#sk-container-id-4 div.sk-toggleable__content pre {margin: 0.2em;color: black;border-radius: 0.25em;background-color: #f0f8ff;}#sk-container-id-4 input.sk-toggleable__control:checked~div.sk-toggleable__content {max-height: 200px;max-width: 100%;overflow: auto;}#sk-container-id-4 input.sk-toggleable__control:checked~label.sk-toggleable__label-arrow:before {content: \"▾\";}#sk-container-id-4 div.sk-estimator input.sk-toggleable__control:checked~label.sk-toggleable__label {background-color: #d4ebff;}#sk-container-id-4 div.sk-label input.sk-toggleable__control:checked~label.sk-toggleable__label {background-color: #d4ebff;}#sk-container-id-4 input.sk-hidden--visually {border: 0;clip: rect(1px 1px 1px 1px);clip: rect(1px, 1px, 1px, 1px);height: 1px;margin: -1px;overflow: hidden;padding: 0;position: absolute;width: 1px;}#sk-container-id-4 div.sk-estimator {font-family: monospace;background-color: #f0f8ff;border: 1px dotted black;border-radius: 0.25em;box-sizing: border-box;margin-bottom: 0.5em;}#sk-container-id-4 div.sk-estimator:hover {background-color: #d4ebff;}#sk-container-id-4 div.sk-parallel-item::after {content: \"\";width: 100%;border-bottom: 1px solid gray;flex-grow: 1;}#sk-container-id-4 div.sk-label:hover label.sk-toggleable__label {background-color: #d4ebff;}#sk-container-id-4 div.sk-serial::before {content: \"\";position: absolute;border-left: 1px solid gray;box-sizing: border-box;top: 0;bottom: 0;left: 50%;z-index: 0;}#sk-container-id-4 div.sk-serial {display: flex;flex-direction: column;align-items: center;background-color: white;padding-right: 0.2em;padding-left: 0.2em;position: relative;}#sk-container-id-4 div.sk-item {position: relative;z-index: 1;}#sk-container-id-4 div.sk-parallel {display: flex;align-items: stretch;justify-content: center;background-color: white;position: relative;}#sk-container-id-4 div.sk-item::before, #sk-container-id-4 div.sk-parallel-item::before {content: \"\";position: absolute;border-left: 1px solid gray;box-sizing: border-box;top: 0;bottom: 0;left: 50%;z-index: -1;}#sk-container-id-4 div.sk-parallel-item {display: flex;flex-direction: column;z-index: 1;position: relative;background-color: white;}#sk-container-id-4 div.sk-parallel-item:first-child::after {align-self: flex-end;width: 50%;}#sk-container-id-4 div.sk-parallel-item:last-child::after {align-self: flex-start;width: 50%;}#sk-container-id-4 div.sk-parallel-item:only-child::after {width: 0;}#sk-container-id-4 div.sk-dashed-wrapped {border: 1px dashed gray;margin: 0 0.4em 0.5em 0.4em;box-sizing: border-box;padding-bottom: 0.4em;background-color: white;}#sk-container-id-4 div.sk-label label {font-family: monospace;font-weight: bold;display: inline-block;line-height: 1.2em;}#sk-container-id-4 div.sk-label-container {text-align: center;}#sk-container-id-4 div.sk-container {/* jupyter's `normalize.less` sets `[hidden] { display: none; }` but bootstrap.min.css set `[hidden] { display: none !important; }` so we also need the `!important` here to be able to override the default hidden behavior on the sphinx rendered scikit-learn.org. See: https://github.com/scikit-learn/scikit-learn/issues/21755 */display: inline-block !important;position: relative;}#sk-container-id-4 div.sk-text-repr-fallback {display: none;}</style><div id=\"sk-container-id-4\" class=\"sk-top-container\"><div class=\"sk-text-repr-fallback\"><pre>RandomForestClassifier(random_state=2022)</pre><b>In a Jupyter environment, please rerun this cell to show the HTML representation or trust the notebook. <br />On GitHub, the HTML representation is unable to render, please try loading this page with nbviewer.org.</b></div><div class=\"sk-container\" hidden><div class=\"sk-item\"><div class=\"sk-estimator sk-toggleable\"><input class=\"sk-toggleable__control sk-hidden--visually\" id=\"sk-estimator-id-4\" type=\"checkbox\" checked><label for=\"sk-estimator-id-4\" class=\"sk-toggleable__label sk-toggleable__label-arrow\">RandomForestClassifier</label><div class=\"sk-toggleable__content\"><pre>RandomForestClassifier(random_state=2022)</pre></div></div></div></div></div>"
            ],
            "text/plain": [
              "RandomForestClassifier(random_state=2022)"
            ]
          },
          "execution_count": 60,
          "metadata": {},
          "output_type": "execute_result"
        }
      ],
      "source": [
        "from sklearn.ensemble import RandomForestClassifier\n",
        "\n",
        "rfc_j_2 = RandomForestClassifier(n_estimators=100, random_state=2022)\n",
        "rfc_j_2.fit(train_vector_j,y_j)"
      ]
    },
    {
      "cell_type": "code",
      "execution_count": null,
      "metadata": {
        "id": "b59pT5SxVhOF"
      },
      "outputs": [],
      "source": [
        "pred_res_j_2 = rfc_j_2.predict(test_vector_j)"
      ]
    },
    {
      "cell_type": "code",
      "execution_count": null,
      "metadata": {
        "colab": {
          "base_uri": "https://localhost:8080/"
        },
        "id": "utJIOUknVlC2",
        "outputId": "841df8a5-7fe0-4ba6-8789-adccf4e05a22"
      },
      "outputs": [
        {
          "name": "stdout",
          "output_type": "stream",
          "text": [
            "Accuracy: 0.4677143833276392\n",
            "Hamming Loss: 0.05914759139050222\n",
            "F1 macro: 0.6421238691711775\n",
            "F1 micro: 0.6564128007938477\n",
            "Recall macro: 0.5812812672845298\n",
            "Recall micro: 0.5870867539383182\n",
            "Precision macro: 0.7367498283753289\n",
            "Precision micro: 0.7443037974683544\n"
          ]
        }
      ],
      "source": [
        "evaluate_classifier_performance(pred_res_j_2)"
      ]
    },
    {
      "cell_type": "code",
      "execution_count": null,
      "metadata": {
        "colab": {
          "base_uri": "https://localhost:8080/"
        },
        "id": "RgbGiiCeVu8Y",
        "outputId": "1f0beee2-6950-42bc-d8f1-83e28b4c822b"
      },
      "outputs": [
        {
          "data": {
            "text/html": [
              "<style>#sk-container-id-5 {color: black;background-color: white;}#sk-container-id-5 pre{padding: 0;}#sk-container-id-5 div.sk-toggleable {background-color: white;}#sk-container-id-5 label.sk-toggleable__label {cursor: pointer;display: block;width: 100%;margin-bottom: 0;padding: 0.3em;box-sizing: border-box;text-align: center;}#sk-container-id-5 label.sk-toggleable__label-arrow:before {content: \"▸\";float: left;margin-right: 0.25em;color: #696969;}#sk-container-id-5 label.sk-toggleable__label-arrow:hover:before {color: black;}#sk-container-id-5 div.sk-estimator:hover label.sk-toggleable__label-arrow:before {color: black;}#sk-container-id-5 div.sk-toggleable__content {max-height: 0;max-width: 0;overflow: hidden;text-align: left;background-color: #f0f8ff;}#sk-container-id-5 div.sk-toggleable__content pre {margin: 0.2em;color: black;border-radius: 0.25em;background-color: #f0f8ff;}#sk-container-id-5 input.sk-toggleable__control:checked~div.sk-toggleable__content {max-height: 200px;max-width: 100%;overflow: auto;}#sk-container-id-5 input.sk-toggleable__control:checked~label.sk-toggleable__label-arrow:before {content: \"▾\";}#sk-container-id-5 div.sk-estimator input.sk-toggleable__control:checked~label.sk-toggleable__label {background-color: #d4ebff;}#sk-container-id-5 div.sk-label input.sk-toggleable__control:checked~label.sk-toggleable__label {background-color: #d4ebff;}#sk-container-id-5 input.sk-hidden--visually {border: 0;clip: rect(1px 1px 1px 1px);clip: rect(1px, 1px, 1px, 1px);height: 1px;margin: -1px;overflow: hidden;padding: 0;position: absolute;width: 1px;}#sk-container-id-5 div.sk-estimator {font-family: monospace;background-color: #f0f8ff;border: 1px dotted black;border-radius: 0.25em;box-sizing: border-box;margin-bottom: 0.5em;}#sk-container-id-5 div.sk-estimator:hover {background-color: #d4ebff;}#sk-container-id-5 div.sk-parallel-item::after {content: \"\";width: 100%;border-bottom: 1px solid gray;flex-grow: 1;}#sk-container-id-5 div.sk-label:hover label.sk-toggleable__label {background-color: #d4ebff;}#sk-container-id-5 div.sk-serial::before {content: \"\";position: absolute;border-left: 1px solid gray;box-sizing: border-box;top: 0;bottom: 0;left: 50%;z-index: 0;}#sk-container-id-5 div.sk-serial {display: flex;flex-direction: column;align-items: center;background-color: white;padding-right: 0.2em;padding-left: 0.2em;position: relative;}#sk-container-id-5 div.sk-item {position: relative;z-index: 1;}#sk-container-id-5 div.sk-parallel {display: flex;align-items: stretch;justify-content: center;background-color: white;position: relative;}#sk-container-id-5 div.sk-item::before, #sk-container-id-5 div.sk-parallel-item::before {content: \"\";position: absolute;border-left: 1px solid gray;box-sizing: border-box;top: 0;bottom: 0;left: 50%;z-index: -1;}#sk-container-id-5 div.sk-parallel-item {display: flex;flex-direction: column;z-index: 1;position: relative;background-color: white;}#sk-container-id-5 div.sk-parallel-item:first-child::after {align-self: flex-end;width: 50%;}#sk-container-id-5 div.sk-parallel-item:last-child::after {align-self: flex-start;width: 50%;}#sk-container-id-5 div.sk-parallel-item:only-child::after {width: 0;}#sk-container-id-5 div.sk-dashed-wrapped {border: 1px dashed gray;margin: 0 0.4em 0.5em 0.4em;box-sizing: border-box;padding-bottom: 0.4em;background-color: white;}#sk-container-id-5 div.sk-label label {font-family: monospace;font-weight: bold;display: inline-block;line-height: 1.2em;}#sk-container-id-5 div.sk-label-container {text-align: center;}#sk-container-id-5 div.sk-container {/* jupyter's `normalize.less` sets `[hidden] { display: none; }` but bootstrap.min.css set `[hidden] { display: none !important; }` so we also need the `!important` here to be able to override the default hidden behavior on the sphinx rendered scikit-learn.org. See: https://github.com/scikit-learn/scikit-learn/issues/21755 */display: inline-block !important;position: relative;}#sk-container-id-5 div.sk-text-repr-fallback {display: none;}</style><div id=\"sk-container-id-5\" class=\"sk-top-container\"><div class=\"sk-text-repr-fallback\"><pre>RandomForestClassifier(n_estimators=400, random_state=2022)</pre><b>In a Jupyter environment, please rerun this cell to show the HTML representation or trust the notebook. <br />On GitHub, the HTML representation is unable to render, please try loading this page with nbviewer.org.</b></div><div class=\"sk-container\" hidden><div class=\"sk-item\"><div class=\"sk-estimator sk-toggleable\"><input class=\"sk-toggleable__control sk-hidden--visually\" id=\"sk-estimator-id-5\" type=\"checkbox\" checked><label for=\"sk-estimator-id-5\" class=\"sk-toggleable__label sk-toggleable__label-arrow\">RandomForestClassifier</label><div class=\"sk-toggleable__content\"><pre>RandomForestClassifier(n_estimators=400, random_state=2022)</pre></div></div></div></div></div>"
            ],
            "text/plain": [
              "RandomForestClassifier(n_estimators=400, random_state=2022)"
            ]
          },
          "execution_count": 63,
          "metadata": {},
          "output_type": "execute_result"
        }
      ],
      "source": [
        "from sklearn.ensemble import RandomForestClassifier\n",
        "\n",
        "rfc_j_3 = RandomForestClassifier(n_estimators=400, random_state=2022)\n",
        "rfc_j_3.fit(train_vector_j,y_j)"
      ]
    },
    {
      "cell_type": "code",
      "execution_count": null,
      "metadata": {
        "id": "35lb_4icVu8Z"
      },
      "outputs": [],
      "source": [
        "pred_res_j_3 = rfc_j_3.predict(test_vector_j)"
      ]
    },
    {
      "cell_type": "code",
      "execution_count": null,
      "metadata": {
        "colab": {
          "base_uri": "https://localhost:8080/"
        },
        "id": "0DANBDxoVu8Z",
        "outputId": "1fb8d10c-580d-4616-81be-2d1aa083ebd5"
      },
      "outputs": [
        {
          "name": "stdout",
          "output_type": "stream",
          "text": [
            "Accuracy: 0.4683976768021865\n",
            "Hamming Loss: 0.05891270925862658\n",
            "F1 macro: 0.6416082083168464\n",
            "F1 micro: 0.658158840292405\n",
            "Recall macro: 0.5820785478117922\n",
            "Recall micro: 0.5893055247392944\n",
            "Precision macro: 0.7354481572960109\n",
            "Precision micro: 0.745230078563412\n"
          ]
        }
      ],
      "source": [
        "evaluate_classifier_performance(pred_res_j_3)"
      ]
    },
    {
      "cell_type": "code",
      "execution_count": null,
      "metadata": {
        "id": "os6ld4FWXVKI",
        "outputId": "e68a0b19-1def-4de6-e23d-b7952d13aae6"
      },
      "outputs": [
        {
          "data": {
            "text/html": [
              "<style>#sk-container-id-6 {color: black;background-color: white;}#sk-container-id-6 pre{padding: 0;}#sk-container-id-6 div.sk-toggleable {background-color: white;}#sk-container-id-6 label.sk-toggleable__label {cursor: pointer;display: block;width: 100%;margin-bottom: 0;padding: 0.3em;box-sizing: border-box;text-align: center;}#sk-container-id-6 label.sk-toggleable__label-arrow:before {content: \"▸\";float: left;margin-right: 0.25em;color: #696969;}#sk-container-id-6 label.sk-toggleable__label-arrow:hover:before {color: black;}#sk-container-id-6 div.sk-estimator:hover label.sk-toggleable__label-arrow:before {color: black;}#sk-container-id-6 div.sk-toggleable__content {max-height: 0;max-width: 0;overflow: hidden;text-align: left;background-color: #f0f8ff;}#sk-container-id-6 div.sk-toggleable__content pre {margin: 0.2em;color: black;border-radius: 0.25em;background-color: #f0f8ff;}#sk-container-id-6 input.sk-toggleable__control:checked~div.sk-toggleable__content {max-height: 200px;max-width: 100%;overflow: auto;}#sk-container-id-6 input.sk-toggleable__control:checked~label.sk-toggleable__label-arrow:before {content: \"▾\";}#sk-container-id-6 div.sk-estimator input.sk-toggleable__control:checked~label.sk-toggleable__label {background-color: #d4ebff;}#sk-container-id-6 div.sk-label input.sk-toggleable__control:checked~label.sk-toggleable__label {background-color: #d4ebff;}#sk-container-id-6 input.sk-hidden--visually {border: 0;clip: rect(1px 1px 1px 1px);clip: rect(1px, 1px, 1px, 1px);height: 1px;margin: -1px;overflow: hidden;padding: 0;position: absolute;width: 1px;}#sk-container-id-6 div.sk-estimator {font-family: monospace;background-color: #f0f8ff;border: 1px dotted black;border-radius: 0.25em;box-sizing: border-box;margin-bottom: 0.5em;}#sk-container-id-6 div.sk-estimator:hover {background-color: #d4ebff;}#sk-container-id-6 div.sk-parallel-item::after {content: \"\";width: 100%;border-bottom: 1px solid gray;flex-grow: 1;}#sk-container-id-6 div.sk-label:hover label.sk-toggleable__label {background-color: #d4ebff;}#sk-container-id-6 div.sk-serial::before {content: \"\";position: absolute;border-left: 1px solid gray;box-sizing: border-box;top: 0;bottom: 0;left: 50%;z-index: 0;}#sk-container-id-6 div.sk-serial {display: flex;flex-direction: column;align-items: center;background-color: white;padding-right: 0.2em;padding-left: 0.2em;position: relative;}#sk-container-id-6 div.sk-item {position: relative;z-index: 1;}#sk-container-id-6 div.sk-parallel {display: flex;align-items: stretch;justify-content: center;background-color: white;position: relative;}#sk-container-id-6 div.sk-item::before, #sk-container-id-6 div.sk-parallel-item::before {content: \"\";position: absolute;border-left: 1px solid gray;box-sizing: border-box;top: 0;bottom: 0;left: 50%;z-index: -1;}#sk-container-id-6 div.sk-parallel-item {display: flex;flex-direction: column;z-index: 1;position: relative;background-color: white;}#sk-container-id-6 div.sk-parallel-item:first-child::after {align-self: flex-end;width: 50%;}#sk-container-id-6 div.sk-parallel-item:last-child::after {align-self: flex-start;width: 50%;}#sk-container-id-6 div.sk-parallel-item:only-child::after {width: 0;}#sk-container-id-6 div.sk-dashed-wrapped {border: 1px dashed gray;margin: 0 0.4em 0.5em 0.4em;box-sizing: border-box;padding-bottom: 0.4em;background-color: white;}#sk-container-id-6 div.sk-label label {font-family: monospace;font-weight: bold;display: inline-block;line-height: 1.2em;}#sk-container-id-6 div.sk-label-container {text-align: center;}#sk-container-id-6 div.sk-container {/* jupyter's `normalize.less` sets `[hidden] { display: none; }` but bootstrap.min.css set `[hidden] { display: none !important; }` so we also need the `!important` here to be able to override the default hidden behavior on the sphinx rendered scikit-learn.org. See: https://github.com/scikit-learn/scikit-learn/issues/21755 */display: inline-block !important;position: relative;}#sk-container-id-6 div.sk-text-repr-fallback {display: none;}</style><div id=\"sk-container-id-6\" class=\"sk-top-container\"><div class=\"sk-text-repr-fallback\"><pre>RandomForestClassifier(n_estimators=500, random_state=2022)</pre><b>In a Jupyter environment, please rerun this cell to show the HTML representation or trust the notebook. <br />On GitHub, the HTML representation is unable to render, please try loading this page with nbviewer.org.</b></div><div class=\"sk-container\" hidden><div class=\"sk-item\"><div class=\"sk-estimator sk-toggleable\"><input class=\"sk-toggleable__control sk-hidden--visually\" id=\"sk-estimator-id-6\" type=\"checkbox\" checked><label for=\"sk-estimator-id-6\" class=\"sk-toggleable__label sk-toggleable__label-arrow\">RandomForestClassifier</label><div class=\"sk-toggleable__content\"><pre>RandomForestClassifier(n_estimators=500, random_state=2022)</pre></div></div></div></div></div>"
            ],
            "text/plain": [
              "RandomForestClassifier(n_estimators=500, random_state=2022)"
            ]
          },
          "execution_count": 66,
          "metadata": {},
          "output_type": "execute_result"
        }
      ],
      "source": [
        "from sklearn.ensemble import RandomForestClassifier\n",
        "\n",
        "rfc_j_4 = RandomForestClassifier(n_estimators=500, random_state=2022)\n",
        "rfc_j_4.fit(train_vector_j,y_j)"
      ]
    },
    {
      "cell_type": "code",
      "execution_count": null,
      "metadata": {
        "id": "Cu0K0-iPXVKI"
      },
      "outputs": [],
      "source": [
        "pred_res_j_4 = rfc_j_4.predict(test_vector_j)"
      ]
    },
    {
      "cell_type": "code",
      "execution_count": null,
      "metadata": {
        "id": "9fAmVDDNXVKI",
        "outputId": "081cbbb2-41c8-421c-fef4-02220c2b54a5"
      },
      "outputs": [
        {
          "name": "stdout",
          "output_type": "stream",
          "text": [
            "Accuracy: 0.46908097027673384\n",
            "Hamming Loss: 0.05880594465322856\n",
            "F1 macro: 0.6420096824680224\n",
            "F1 micro: 0.6583974199950384\n",
            "Recall macro: 0.5820378156006043\n",
            "Recall micro: 0.5888617705790992\n",
            "Precision macro: 0.7365649055170066\n",
            "Precision micro: 0.7465541490857946\n"
          ]
        }
      ],
      "source": [
        "evaluate_classifier_performance(pred_res_j_4)"
      ]
    },
    {
      "cell_type": "markdown",
      "metadata": {
        "id": "O81qcJ9Aizez"
      },
      "source": [
        "##### Gradient Boosting"
      ]
    },
    {
      "cell_type": "code",
      "execution_count": null,
      "metadata": {
        "id": "UIlx4yFli_6Z"
      },
      "outputs": [],
      "source": [
        "X_j_gb = df_data_clean['JUDUL'] \n",
        "y_j_gb = np.asarray(df_data_clean[df_data_clean.columns[3:]])\n",
        "test_j_gb = df_testing_data_clean['JUDUL'] "
      ]
    },
    {
      "cell_type": "code",
      "execution_count": null,
      "metadata": {
        "id": "vVJIppYOi_6Z"
      },
      "outputs": [],
      "source": [
        "from sklearn.feature_extraction.text import TfidfVectorizer\n",
        "\n",
        "vectorizer_j_gb = TfidfVectorizer()\n",
        "\n",
        "train_vector_j_gb = vectorizer_j_gb.fit_transform(X_j_gb).toarray()\n",
        "test_vector_j_gb = vectorizer_j_gb.transform(test_j_gb).toarray()"
      ]
    },
    {
      "cell_type": "code",
      "execution_count": null,
      "metadata": {
        "id": "Kn4c-vPti_6Z",
        "outputId": "8b55cbc4-3df8-408b-b3fb-8ec6679ac9f1"
      },
      "outputs": [
        {
          "data": {
            "text/html": [
              "<style>#sk-container-id-7 {color: black;background-color: white;}#sk-container-id-7 pre{padding: 0;}#sk-container-id-7 div.sk-toggleable {background-color: white;}#sk-container-id-7 label.sk-toggleable__label {cursor: pointer;display: block;width: 100%;margin-bottom: 0;padding: 0.3em;box-sizing: border-box;text-align: center;}#sk-container-id-7 label.sk-toggleable__label-arrow:before {content: \"▸\";float: left;margin-right: 0.25em;color: #696969;}#sk-container-id-7 label.sk-toggleable__label-arrow:hover:before {color: black;}#sk-container-id-7 div.sk-estimator:hover label.sk-toggleable__label-arrow:before {color: black;}#sk-container-id-7 div.sk-toggleable__content {max-height: 0;max-width: 0;overflow: hidden;text-align: left;background-color: #f0f8ff;}#sk-container-id-7 div.sk-toggleable__content pre {margin: 0.2em;color: black;border-radius: 0.25em;background-color: #f0f8ff;}#sk-container-id-7 input.sk-toggleable__control:checked~div.sk-toggleable__content {max-height: 200px;max-width: 100%;overflow: auto;}#sk-container-id-7 input.sk-toggleable__control:checked~label.sk-toggleable__label-arrow:before {content: \"▾\";}#sk-container-id-7 div.sk-estimator input.sk-toggleable__control:checked~label.sk-toggleable__label {background-color: #d4ebff;}#sk-container-id-7 div.sk-label input.sk-toggleable__control:checked~label.sk-toggleable__label {background-color: #d4ebff;}#sk-container-id-7 input.sk-hidden--visually {border: 0;clip: rect(1px 1px 1px 1px);clip: rect(1px, 1px, 1px, 1px);height: 1px;margin: -1px;overflow: hidden;padding: 0;position: absolute;width: 1px;}#sk-container-id-7 div.sk-estimator {font-family: monospace;background-color: #f0f8ff;border: 1px dotted black;border-radius: 0.25em;box-sizing: border-box;margin-bottom: 0.5em;}#sk-container-id-7 div.sk-estimator:hover {background-color: #d4ebff;}#sk-container-id-7 div.sk-parallel-item::after {content: \"\";width: 100%;border-bottom: 1px solid gray;flex-grow: 1;}#sk-container-id-7 div.sk-label:hover label.sk-toggleable__label {background-color: #d4ebff;}#sk-container-id-7 div.sk-serial::before {content: \"\";position: absolute;border-left: 1px solid gray;box-sizing: border-box;top: 0;bottom: 0;left: 50%;z-index: 0;}#sk-container-id-7 div.sk-serial {display: flex;flex-direction: column;align-items: center;background-color: white;padding-right: 0.2em;padding-left: 0.2em;position: relative;}#sk-container-id-7 div.sk-item {position: relative;z-index: 1;}#sk-container-id-7 div.sk-parallel {display: flex;align-items: stretch;justify-content: center;background-color: white;position: relative;}#sk-container-id-7 div.sk-item::before, #sk-container-id-7 div.sk-parallel-item::before {content: \"\";position: absolute;border-left: 1px solid gray;box-sizing: border-box;top: 0;bottom: 0;left: 50%;z-index: -1;}#sk-container-id-7 div.sk-parallel-item {display: flex;flex-direction: column;z-index: 1;position: relative;background-color: white;}#sk-container-id-7 div.sk-parallel-item:first-child::after {align-self: flex-end;width: 50%;}#sk-container-id-7 div.sk-parallel-item:last-child::after {align-self: flex-start;width: 50%;}#sk-container-id-7 div.sk-parallel-item:only-child::after {width: 0;}#sk-container-id-7 div.sk-dashed-wrapped {border: 1px dashed gray;margin: 0 0.4em 0.5em 0.4em;box-sizing: border-box;padding-bottom: 0.4em;background-color: white;}#sk-container-id-7 div.sk-label label {font-family: monospace;font-weight: bold;display: inline-block;line-height: 1.2em;}#sk-container-id-7 div.sk-label-container {text-align: center;}#sk-container-id-7 div.sk-container {/* jupyter's `normalize.less` sets `[hidden] { display: none; }` but bootstrap.min.css set `[hidden] { display: none !important; }` so we also need the `!important` here to be able to override the default hidden behavior on the sphinx rendered scikit-learn.org. See: https://github.com/scikit-learn/scikit-learn/issues/21755 */display: inline-block !important;position: relative;}#sk-container-id-7 div.sk-text-repr-fallback {display: none;}</style><div id=\"sk-container-id-7\" class=\"sk-top-container\"><div class=\"sk-text-repr-fallback\"><pre>ClassifierChain(base_estimator=GradientBoostingClassifier(n_estimators=250,\n",
              "                                                          random_state=2022))</pre><b>In a Jupyter environment, please rerun this cell to show the HTML representation or trust the notebook. <br />On GitHub, the HTML representation is unable to render, please try loading this page with nbviewer.org.</b></div><div class=\"sk-container\" hidden><div class=\"sk-item sk-dashed-wrapped\"><div class=\"sk-label-container\"><div class=\"sk-label sk-toggleable\"><input class=\"sk-toggleable__control sk-hidden--visually\" id=\"sk-estimator-id-7\" type=\"checkbox\" ><label for=\"sk-estimator-id-7\" class=\"sk-toggleable__label sk-toggleable__label-arrow\">ClassifierChain</label><div class=\"sk-toggleable__content\"><pre>ClassifierChain(base_estimator=GradientBoostingClassifier(n_estimators=250,\n",
              "                                                          random_state=2022))</pre></div></div></div><div class=\"sk-parallel\"><div class=\"sk-parallel-item\"><div class=\"sk-item\"><div class=\"sk-label-container\"><div class=\"sk-label sk-toggleable\"><input class=\"sk-toggleable__control sk-hidden--visually\" id=\"sk-estimator-id-8\" type=\"checkbox\" ><label for=\"sk-estimator-id-8\" class=\"sk-toggleable__label sk-toggleable__label-arrow\">base_estimator: GradientBoostingClassifier</label><div class=\"sk-toggleable__content\"><pre>GradientBoostingClassifier(n_estimators=250, random_state=2022)</pre></div></div></div><div class=\"sk-serial\"><div class=\"sk-item\"><div class=\"sk-estimator sk-toggleable\"><input class=\"sk-toggleable__control sk-hidden--visually\" id=\"sk-estimator-id-9\" type=\"checkbox\" ><label for=\"sk-estimator-id-9\" class=\"sk-toggleable__label sk-toggleable__label-arrow\">GradientBoostingClassifier</label><div class=\"sk-toggleable__content\"><pre>GradientBoostingClassifier(n_estimators=250, random_state=2022)</pre></div></div></div></div></div></div></div></div></div></div>"
            ],
            "text/plain": [
              "ClassifierChain(base_estimator=GradientBoostingClassifier(n_estimators=250,\n",
              "                                                          random_state=2022))"
            ]
          },
          "execution_count": 71,
          "metadata": {},
          "output_type": "execute_result"
        }
      ],
      "source": [
        "# Membangun model klasifikasi dan melakukan evaluasi terhadap performa model\n",
        "from sklearn.ensemble import GradientBoostingClassifier\n",
        "from sklearn.multioutput import ClassifierChain\n",
        "\n",
        "# using GradientBoostingClassifier\n",
        "gbc_j_gb = GradientBoostingClassifier(n_estimators=250, random_state=2022)\n",
        "chain_gbc_j_gb = ClassifierChain(gbc_j_gb)\n",
        "chain_gbc_j_gb.fit(train_vector_j_gb,y_j_gb)\n"
      ]
    },
    {
      "cell_type": "code",
      "execution_count": null,
      "metadata": {
        "id": "PT5N5uMii_6a"
      },
      "outputs": [],
      "source": [
        "pred_res_j_gb = chain_gbc_j_gb.predict(test_vector_j_gb)"
      ]
    },
    {
      "cell_type": "code",
      "execution_count": null,
      "metadata": {
        "id": "4HCyOZ91i_6a",
        "outputId": "487d7a96-c99f-4bb4-8a04-5e69681f35d5"
      },
      "outputs": [
        {
          "name": "stdout",
          "output_type": "stream",
          "text": [
            "Berdasarkan Judul Machine Annotated\n",
            "Accuracy: 0.44994875298940895\n",
            "Hamming Loss: 0.05995900239152716\n",
            "F1 macro: 0.638630009260186\n",
            "F1 micro: 0.6445569620253165\n",
            "Recall macro: 0.5827660422188881\n",
            "Recall micro: 0.5648990459285556\n",
            "Precision macro: 0.7352831740533567\n",
            "Precision micro: 0.7503684055408193\n"
          ]
        }
      ],
      "source": [
        "print(\"Berdasarkan Judul Machine Annotated\")\n",
        "evaluate_classifier_performance(pred_res_j_gb)"
      ]
    },
    {
      "cell_type": "markdown",
      "metadata": {
        "id": "OoWGKZp8GcFw"
      },
      "source": [
        "##### AdaBoost"
      ]
    },
    {
      "cell_type": "code",
      "execution_count": null,
      "metadata": {
        "id": "06VZwD7CGc2m"
      },
      "outputs": [],
      "source": [
        "X_j_ab = df_data_clean['JUDUL'] \n",
        "y_j_ab = np.asarray(df_data_clean[df_data_clean.columns[3:]])\n",
        "test_j_ab = df_testing_data_clean['JUDUL'] "
      ]
    },
    {
      "cell_type": "code",
      "execution_count": null,
      "metadata": {
        "id": "Ukcjf53ZGc2n"
      },
      "outputs": [],
      "source": [
        "from sklearn.feature_extraction.text import TfidfVectorizer\n",
        "\n",
        "vectorizer_j_ab = TfidfVectorizer()\n",
        "\n",
        "train_vector_j_ab = vectorizer_j_ab.fit_transform(X_j_ab).toarray()\n",
        "test_vector_j_ab = vectorizer_j_ab.transform(test_j_ab).toarray()"
      ]
    },
    {
      "cell_type": "code",
      "execution_count": null,
      "metadata": {
        "id": "Hv7wlkDaGc2n",
        "outputId": "c71303da-c4bc-4750-ec53-169f40e6621d"
      },
      "outputs": [
        {
          "data": {
            "text/html": [
              "<style>#sk-container-id-8 {color: black;background-color: white;}#sk-container-id-8 pre{padding: 0;}#sk-container-id-8 div.sk-toggleable {background-color: white;}#sk-container-id-8 label.sk-toggleable__label {cursor: pointer;display: block;width: 100%;margin-bottom: 0;padding: 0.3em;box-sizing: border-box;text-align: center;}#sk-container-id-8 label.sk-toggleable__label-arrow:before {content: \"▸\";float: left;margin-right: 0.25em;color: #696969;}#sk-container-id-8 label.sk-toggleable__label-arrow:hover:before {color: black;}#sk-container-id-8 div.sk-estimator:hover label.sk-toggleable__label-arrow:before {color: black;}#sk-container-id-8 div.sk-toggleable__content {max-height: 0;max-width: 0;overflow: hidden;text-align: left;background-color: #f0f8ff;}#sk-container-id-8 div.sk-toggleable__content pre {margin: 0.2em;color: black;border-radius: 0.25em;background-color: #f0f8ff;}#sk-container-id-8 input.sk-toggleable__control:checked~div.sk-toggleable__content {max-height: 200px;max-width: 100%;overflow: auto;}#sk-container-id-8 input.sk-toggleable__control:checked~label.sk-toggleable__label-arrow:before {content: \"▾\";}#sk-container-id-8 div.sk-estimator input.sk-toggleable__control:checked~label.sk-toggleable__label {background-color: #d4ebff;}#sk-container-id-8 div.sk-label input.sk-toggleable__control:checked~label.sk-toggleable__label {background-color: #d4ebff;}#sk-container-id-8 input.sk-hidden--visually {border: 0;clip: rect(1px 1px 1px 1px);clip: rect(1px, 1px, 1px, 1px);height: 1px;margin: -1px;overflow: hidden;padding: 0;position: absolute;width: 1px;}#sk-container-id-8 div.sk-estimator {font-family: monospace;background-color: #f0f8ff;border: 1px dotted black;border-radius: 0.25em;box-sizing: border-box;margin-bottom: 0.5em;}#sk-container-id-8 div.sk-estimator:hover {background-color: #d4ebff;}#sk-container-id-8 div.sk-parallel-item::after {content: \"\";width: 100%;border-bottom: 1px solid gray;flex-grow: 1;}#sk-container-id-8 div.sk-label:hover label.sk-toggleable__label {background-color: #d4ebff;}#sk-container-id-8 div.sk-serial::before {content: \"\";position: absolute;border-left: 1px solid gray;box-sizing: border-box;top: 0;bottom: 0;left: 50%;z-index: 0;}#sk-container-id-8 div.sk-serial {display: flex;flex-direction: column;align-items: center;background-color: white;padding-right: 0.2em;padding-left: 0.2em;position: relative;}#sk-container-id-8 div.sk-item {position: relative;z-index: 1;}#sk-container-id-8 div.sk-parallel {display: flex;align-items: stretch;justify-content: center;background-color: white;position: relative;}#sk-container-id-8 div.sk-item::before, #sk-container-id-8 div.sk-parallel-item::before {content: \"\";position: absolute;border-left: 1px solid gray;box-sizing: border-box;top: 0;bottom: 0;left: 50%;z-index: -1;}#sk-container-id-8 div.sk-parallel-item {display: flex;flex-direction: column;z-index: 1;position: relative;background-color: white;}#sk-container-id-8 div.sk-parallel-item:first-child::after {align-self: flex-end;width: 50%;}#sk-container-id-8 div.sk-parallel-item:last-child::after {align-self: flex-start;width: 50%;}#sk-container-id-8 div.sk-parallel-item:only-child::after {width: 0;}#sk-container-id-8 div.sk-dashed-wrapped {border: 1px dashed gray;margin: 0 0.4em 0.5em 0.4em;box-sizing: border-box;padding-bottom: 0.4em;background-color: white;}#sk-container-id-8 div.sk-label label {font-family: monospace;font-weight: bold;display: inline-block;line-height: 1.2em;}#sk-container-id-8 div.sk-label-container {text-align: center;}#sk-container-id-8 div.sk-container {/* jupyter's `normalize.less` sets `[hidden] { display: none; }` but bootstrap.min.css set `[hidden] { display: none !important; }` so we also need the `!important` here to be able to override the default hidden behavior on the sphinx rendered scikit-learn.org. See: https://github.com/scikit-learn/scikit-learn/issues/21755 */display: inline-block !important;position: relative;}#sk-container-id-8 div.sk-text-repr-fallback {display: none;}</style><div id=\"sk-container-id-8\" class=\"sk-top-container\"><div class=\"sk-text-repr-fallback\"><pre>ClassifierChain(base_estimator=AdaBoostClassifier(n_estimators=250,\n",
              "                                                  random_state=2022))</pre><b>In a Jupyter environment, please rerun this cell to show the HTML representation or trust the notebook. <br />On GitHub, the HTML representation is unable to render, please try loading this page with nbviewer.org.</b></div><div class=\"sk-container\" hidden><div class=\"sk-item sk-dashed-wrapped\"><div class=\"sk-label-container\"><div class=\"sk-label sk-toggleable\"><input class=\"sk-toggleable__control sk-hidden--visually\" id=\"sk-estimator-id-10\" type=\"checkbox\" ><label for=\"sk-estimator-id-10\" class=\"sk-toggleable__label sk-toggleable__label-arrow\">ClassifierChain</label><div class=\"sk-toggleable__content\"><pre>ClassifierChain(base_estimator=AdaBoostClassifier(n_estimators=250,\n",
              "                                                  random_state=2022))</pre></div></div></div><div class=\"sk-parallel\"><div class=\"sk-parallel-item\"><div class=\"sk-item\"><div class=\"sk-label-container\"><div class=\"sk-label sk-toggleable\"><input class=\"sk-toggleable__control sk-hidden--visually\" id=\"sk-estimator-id-11\" type=\"checkbox\" ><label for=\"sk-estimator-id-11\" class=\"sk-toggleable__label sk-toggleable__label-arrow\">base_estimator: AdaBoostClassifier</label><div class=\"sk-toggleable__content\"><pre>AdaBoostClassifier(n_estimators=250, random_state=2022)</pre></div></div></div><div class=\"sk-serial\"><div class=\"sk-item\"><div class=\"sk-estimator sk-toggleable\"><input class=\"sk-toggleable__control sk-hidden--visually\" id=\"sk-estimator-id-12\" type=\"checkbox\" ><label for=\"sk-estimator-id-12\" class=\"sk-toggleable__label sk-toggleable__label-arrow\">AdaBoostClassifier</label><div class=\"sk-toggleable__content\"><pre>AdaBoostClassifier(n_estimators=250, random_state=2022)</pre></div></div></div></div></div></div></div></div></div></div>"
            ],
            "text/plain": [
              "ClassifierChain(base_estimator=AdaBoostClassifier(n_estimators=250,\n",
              "                                                  random_state=2022))"
            ]
          },
          "execution_count": 76,
          "metadata": {},
          "output_type": "execute_result"
        }
      ],
      "source": [
        "# Membangun model klasifikasi dan melakukan evaluasi terhadap performa model\n",
        "from sklearn.ensemble import AdaBoostClassifier\n",
        "from sklearn.multioutput import ClassifierChain\n",
        "\n",
        "# using AdaBoostClassifier\n",
        "abc_j_ab = AdaBoostClassifier(n_estimators=250, random_state=2022)\n",
        "chain_abc_j_ab = ClassifierChain(abc_j_ab)\n",
        "chain_abc_j_ab.fit(train_vector_j_ab,y_j_ab)\n"
      ]
    },
    {
      "cell_type": "code",
      "execution_count": null,
      "metadata": {
        "id": "Uol_sH29Gc2n"
      },
      "outputs": [],
      "source": [
        "pred_res_j_ab = chain_abc_j_ab.predict(test_vector_j_ab)"
      ]
    },
    {
      "cell_type": "code",
      "execution_count": null,
      "metadata": {
        "id": "6V-9wjFxGc2o",
        "outputId": "900b5d59-9559-4b1e-dba8-5b8ebbd9abad"
      },
      "outputs": [
        {
          "name": "stdout",
          "output_type": "stream",
          "text": [
            "Berdasarkan Judul Machine Annotated\n",
            "Accuracy: 0.45097369320122993\n",
            "Hamming Loss: 0.06341817560642296\n",
            "F1 macro: 0.6404885059170136\n",
            "F1 micro: 0.6497641509433962\n",
            "Recall macro: 0.6196060843859851\n",
            "Recall micro: 0.6112713556689594\n",
            "Precision macro: 0.6737438121952758\n",
            "Precision micro: 0.6934306569343066\n"
          ]
        }
      ],
      "source": [
        "print(\"Berdasarkan Judul Machine Annotated\")\n",
        "evaluate_classifier_performance(pred_res_j_ab)"
      ]
    }
  ],
  "metadata": {
    "accelerator": "GPU",
    "colab": {
      "collapsed_sections": [
        "mOHqL2322_3u",
        "5khWO0Uu3Eag",
        "26z6CqzdTcbc",
        "xY-BRiw2S8TW",
        "bdhMeBfXUo6n",
        "ZBQRhaNo9-t9",
        "z80TdPSTiwcJ",
        "nB3VkEbxIcEa",
        "Xjt0Lqbp8yLw",
        "v5WAsKnq83CH",
        "0e3ooVqqBD4c",
        "n9M-5IWSU94D",
        "OoWGKZp8GcFw"
      ],
      "provenance": [],
      "include_colab_link": true
    },
    "kernelspec": {
      "display_name": "Python 3 (ipykernel)",
      "language": "python",
      "name": "python3"
    },
    "language_info": {
      "codemirror_mode": {
        "name": "ipython",
        "version": 3
      },
      "file_extension": ".py",
      "mimetype": "text/x-python",
      "name": "python",
      "nbconvert_exporter": "python",
      "pygments_lexer": "ipython3",
      "version": "3.8.13"
    }
  },
  "nbformat": 4,
  "nbformat_minor": 0
}